{
 "cells": [
  {
   "cell_type": "code",
   "execution_count": 1,
   "id": "851e4fb0",
   "metadata": {},
   "outputs": [
    {
     "ename": "NameError",
     "evalue": "name 'rate_limited' is not defined",
     "output_type": "error",
     "traceback": [
      "\u001b[1;31m---------------------------------------------------------------------------\u001b[0m",
      "\u001b[1;31mNameError\u001b[0m                                 Traceback (most recent call last)",
      "Input \u001b[1;32mIn [1]\u001b[0m, in \u001b[0;36m<cell line: 14>\u001b[1;34m()\u001b[0m\n\u001b[0;32m     11\u001b[0m \u001b[38;5;28;01mimport\u001b[39;00m \u001b[38;5;21;01mrequests\u001b[39;00m\n\u001b[0;32m     13\u001b[0m \u001b[38;5;66;03m# 1 วิ เรียกได้ 5 ครั้ง\u001b[39;00m\n\u001b[1;32m---> 14\u001b[0m \u001b[38;5;28;01mclass\u001b[39;00m \u001b[38;5;21;01mRateLimiter\u001b[39;00m:\n\u001b[0;32m     15\u001b[0m     \u001b[38;5;28;01mdef\u001b[39;00m \u001b[38;5;21m__init__\u001b[39m(\u001b[38;5;28mself\u001b[39m, headers):\n\u001b[0;32m     16\u001b[0m         headers \u001b[38;5;241m=\u001b[39m headers\n",
      "Input \u001b[1;32mIn [1]\u001b[0m, in \u001b[0;36mRateLimiter\u001b[1;34m()\u001b[0m\n\u001b[0;32m     16\u001b[0m     headers \u001b[38;5;241m=\u001b[39m headers\n\u001b[0;32m     17\u001b[0m     \u001b[38;5;28;01mreturn\u001b[39;00m\n\u001b[1;32m---> 18\u001b[0m \u001b[38;5;129m@rate_limited\u001b[39m(\u001b[38;5;241m1500\u001b[39m, \u001b[38;5;241m300\u001b[39m)\n\u001b[0;32m     19\u001b[0m \u001b[38;5;28;01mdef\u001b[39;00m \u001b[38;5;21mcall_get_api\u001b[39m(\u001b[38;5;28mself\u001b[39m, url):\n\u001b[0;32m     20\u001b[0m     response \u001b[38;5;241m=\u001b[39m requests\u001b[38;5;241m.\u001b[39mget(url, headers\u001b[38;5;241m=\u001b[39mheaders)\n\u001b[0;32m     22\u001b[0m     \u001b[38;5;28;01mif\u001b[39;00m response\u001b[38;5;241m.\u001b[39mstatus_code \u001b[38;5;241m!=\u001b[39m \u001b[38;5;241m200\u001b[39m:\n",
      "\u001b[1;31mNameError\u001b[0m: name 'rate_limited' is not defined"
     ]
    }
   ],
   "source": [
    "import requests\n",
    "import json\n",
    "import pandas as pd\n",
    "from pandas import ExcelWriter\n",
    "\n",
    "headers = {\n",
    "    # Request headers\n",
    "    'Ocp-Apim-Subscription-Key': '16c86c3eb3cb4fee8f54932b92630aef' # Don't forget to put your keys in xxxx\n",
    "}\n",
    "\n",
    "import requests\n",
    "\n",
    "# 1 วิ เรียกได้ 5 ครั้ง\n",
    "class RateLimiter:\n",
    "    def __init__(self, headers):\n",
    "        headers = headers\n",
    "        return\n",
    "    @rate_limited(1500, 300)\n",
    "    def call_get_api(self, url):\n",
    "        response = requests.get(url, headers=headers)\n",
    "\n",
    "        if response.status_code != 200:\n",
    "            print('Cannot call API: {}'.format(response.status_code))\n",
    "        return response\n",
    "\n",
    "limiter = RateLimiter(headers)\n",
    "\n",
    "req = requests.get(f'https://api.sec.or.th/FundFactsheet/fund/amc', headers = headers)\n",
    "amc = pd.read_json(req.content)\n",
    "\n",
    "all_funds = pd.DataFrame(columns=['proj_id', 'proj_abbr_name','proj_name_en', 'proj_name_th','unique_id'])\n",
    "for unique_id in amc.unique_id:\n",
    "    req = requests.get(f'https://api.sec.or.th/FundFactsheet/fund/amc/{unique_id}', headers = headers)\n",
    "    projects = pd.read_json(req.content)\n",
    "    all_funds = all_funds.append(projects[['proj_id', 'proj_abbr_name','proj_name_en', 'proj_name_th','unique_id']])\n",
    "\n",
    "print(f'There are in total {len(all_funds.index)} funds')\n",
    "# Should be divided by 5 but allows for network inefficiencies\n",
    "print(f'Estimate time to complete: {len(all_funds.index) / 4} seconds')\n",
    "\n",
    "# # Create a place to hold risk_spectrum\n",
    "# riskDF = pd.DataFrame(columns=['proj_id', 'risk_spectrum'])\n",
    "# # Just something to track the progress\n",
    "# count = 0\n",
    "# progressstep = 10\n",
    "# itr = 0\n",
    "# for proj_id in all_funds.proj_id:\n",
    "#     count += 1\n",
    "#     if(count > (itr*progressstep) * len(all_funds.index) / 100) :\n",
    "#         print(f'{itr*progressstep} % completed')\n",
    "#         print(f'Estimate time to complete: {len(all_funds.index - count) / 4} seconds')\n",
    "#         itr += 1\n",
    "\n",
    "#     req = limiter.call_get_api(url=f'https://api.sec.or.th/FundFactsheet/fund/{proj_id}/suitability')\n",
    "#     temp_data = json.loads(req.content)\n",
    "#     riskDF = riskDF.append([{'proj_id': proj_id, 'risk_spectrum': temp_data.get('risk_spectrum')}], ignore_index=True)\n",
    "\n",
    "# all_funds = all_funds.merge(riskDF)\n",
    "# all_funds = all_funds.set_index('proj_id')\n",
    "# writer = ExcelWriter('AllRisk.xlsx')\n",
    "# all_funds.to_excel(writer,'FundFactsheet')\n",
    "# writer.save()"
   ]
  }
 ],
 "metadata": {
  "kernelspec": {
   "display_name": "Python 3 (ipykernel)",
   "language": "python",
   "name": "python3"
  },
  "language_info": {
   "codemirror_mode": {
    "name": "ipython",
    "version": 3
   },
   "file_extension": ".py",
   "mimetype": "text/x-python",
   "name": "python",
   "nbconvert_exporter": "python",
   "pygments_lexer": "ipython3",
   "version": "3.10.6"
  }
 },
 "nbformat": 4,
 "nbformat_minor": 5
}
