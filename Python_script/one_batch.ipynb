{
 "cells": [
  {
   "cell_type": "code",
   "execution_count": 1,
   "id": "b2c239fd",
   "metadata": {},
   "outputs": [
    {
     "name": "stdout",
     "output_type": "stream",
     "text": [
      "['List of unique_id']\n"
     ]
    }
   ],
   "source": [
    "import requests\n",
    "import json\n",
    "import pandas as pd\n",
    "from datetime import datetime\n",
    "\n",
    "# ใส่ unique_id\n",
    "man_firm = []\n",
    "\n",
    "'''\n",
    "man_firm = [\n",
    "'C0000000021',\n",
    "'C0000000023',\n",
    "'C0000000124',\n",
    "'C0000000182',\n",
    "'C0000000239',\n",
    "'C0000000290',\n",
    "'C0000000324',\n",
    "'C0000000329',\n",
    "'C0000000460',\n",
    "'C0000000569',\n",
    "'C0000000623',\n",
    "'C0000000709',\n",
    "'C0000000714',\n",
    "'C0000003575',\n",
    "'C0000004884',\n",
    "'C0000005022',\n",
    "'C0000005025',\n",
    "'C0000005531',\n",
    "'C0000006099',\n",
    "'C0000006122',\n",
    "'C0000006185',\n",
    "'C0000006466',\n",
    "'C0000006646',\n",
    "'C0000021747',\n",
    "'C0000024008',\n",
    "'C0000028866',\n",
    "'C0000031161']\n",
    "'''\n",
    "# ใส่ api key\n",
    "headers2 = {\n",
    "    # Request headers of fund fact sheet\n",
    "    'Ocp-Apim-Subscription-Key': ''\n",
    "}\n",
    "\n",
    "def req_api():\n",
    "    for i in man_firm:\n",
    "        response = requests.get(f'https://api.sec.or.th/FundFactsheet/fund/amc/{i}', headers = headers2)\n",
    "        print(i) # unique_id\n",
    "        obj_dict = json.loads(response.text)\n",
    "        # list of mutual funds in one firm\n",
    "        lists = [] \n",
    "        for x in obj_dict:\n",
    "            # print(x['proj_id'])\n",
    "            lists.append(x['proj_id'])\n",
    "        rmf = []\n",
    "        ssf = []\n",
    "        now = datetime.now()\n",
    "        for j in lists:\n",
    "            response2 = requests.get(f'https://api.sec.or.th/FundFactsheet/fund/{j}/specification', headers = headers2)\n",
    "            if response2.status_code == 200:\n",
    "                for k in json.loads(response2.text): # res.txt[0] , res.txt[1]\n",
    "                    if k['spec_code'] == 'SSF' :\n",
    "                        ssf.append(i)\n",
    "                        # print(j)\n",
    "                        # print(k)\n",
    "                    elif k['spec_code'] == 'RMF':\n",
    "                        rmf.append(i)\n",
    "                        # print(j)\n",
    "                        # print(k)\n",
    "        end = datetime.now()\n",
    "        total = end - now\n",
    "        print(\"RMF: \"+ str(len(rmf)) + \" SSF: \"+ str(len(ssf)) + \" Total: \" + str(len(rmf)+len(ssf)))\n",
    "        print(\"========= THIS IS TOTAL :\" + str(total) + \" =========\")\n",
    "        print()"
   ]
  },
  {
   "cell_type": "code",
   "execution_count": null,
   "id": "5c768c6a",
   "metadata": {},
   "outputs": [],
   "source": [
    "req_api()"
   ]
  }
 ],
 "metadata": {
  "kernelspec": {
   "display_name": "Python 3 (ipykernel)",
   "language": "python",
   "name": "python3"
  },
  "language_info": {
   "codemirror_mode": {
    "name": "ipython",
    "version": 3
   },
   "file_extension": ".py",
   "mimetype": "text/x-python",
   "name": "python",
   "nbconvert_exporter": "python",
   "pygments_lexer": "ipython3",
   "version": "3.10.6"
  }
 },
 "nbformat": 4,
 "nbformat_minor": 5
}
