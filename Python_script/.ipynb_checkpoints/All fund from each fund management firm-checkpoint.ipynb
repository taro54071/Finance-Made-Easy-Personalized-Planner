{
 "cells": [
  {
   "cell_type": "code",
   "execution_count": 34,
   "id": "7b5ebb54",
   "metadata": {},
   "outputs": [],
   "source": [
    "import requests\n",
    "import json\n",
    "import pandas as pd\n",
    "from datetime import datetime\n",
    "\n",
    "headers1 = {\n",
    "    # Request headers of fund daily info\n",
    "    'Ocp-Apim-Subscription-Key': 'afbbb604d2814b59b0e5fa6ff3717e16'\n",
    "}\n",
    "\n",
    "headers2 = {\n",
    "    # Request headers of fund fact sheet\n",
    "    'Ocp-Apim-Subscription-Key': '16c86c3eb3cb4fee8f54932b92630aef'\n",
    "}"
   ]
  },
  {
   "cell_type": "code",
   "execution_count": 9,
   "id": "e7c8274c",
   "metadata": {},
   "outputs": [],
   "source": [
    "response = requests.get(f'https://api.sec.or.th/FundDailyInfo/amc', headers = headers1)"
   ]
  },
  {
   "cell_type": "code",
   "execution_count": 10,
   "id": "56c54622",
   "metadata": {},
   "outputs": [],
   "source": [
    "obj = json.loads(response.text)"
   ]
  },
  {
   "cell_type": "code",
   "execution_count": 11,
   "id": "1047e9f6",
   "metadata": {},
   "outputs": [
    {
     "data": {
      "text/plain": [
       "list"
      ]
     },
     "execution_count": 11,
     "metadata": {},
     "output_type": "execute_result"
    }
   ],
   "source": [
    "type(obj)"
   ]
  },
  {
   "cell_type": "code",
   "execution_count": 13,
   "id": "811afebe",
   "metadata": {},
   "outputs": [
    {
     "data": {
      "text/plain": [
       "[{'unique_id': 'C0000000021',\n",
       "  'name_th': 'บริษัท หลักทรัพย์จัดการกองทุนกสิกรไทย จำกัด',\n",
       "  'name_en': 'KASIKORN ASSET MANAGEMENT COMPANY LIMITED',\n",
       "  'last_upd_date': '2023-04-21T05:14:42'},\n",
       " {'unique_id': 'C0000000023',\n",
       "  'name_th': 'บริษัท หลักทรัพย์จัดการกองทุนเอ็มเอฟซี จำกัด (มหาชน)',\n",
       "  'name_en': 'MFC ASSET MANAGEMENT PUBLIC COMPANY LIMITED',\n",
       "  'last_upd_date': '2023-04-21T05:14:42'},\n",
       " {'unique_id': 'C0000000124',\n",
       "  'name_th': 'บริษัท หลักทรัพย์จัดการกองทุนเมอร์ชั่น พาร์ทเนอร์ จำกัด',\n",
       "  'name_en': 'MERCHANT PARTNERS ASSET MANAGEMENT LIMITED',\n",
       "  'last_upd_date': '2023-04-21T05:14:42'},\n",
       " {'unique_id': 'C0000000182',\n",
       "  'name_th': 'บริษัท หลักทรัพย์จัดการกองทุนทหารไทย จำกัด',\n",
       "  'name_en': 'TMB ASSET MANAGEMENT COMPANY LIMITED',\n",
       "  'last_upd_date': '2023-04-21T05:14:42'},\n",
       " {'unique_id': 'C0000000239',\n",
       "  'name_th': 'บริษัท หลักทรัพย์จัดการกองทุนไทยพาณิชย์ จำกัด',\n",
       "  'name_en': 'SCB ASSET MANAGEMENT COMPANY LIMITED',\n",
       "  'last_upd_date': '2023-04-21T05:14:42'},\n",
       " {'unique_id': 'C0000000290',\n",
       "  'name_th': 'บริษัท หลักทรัพย์จัดการกองทุนอเบอร์ดีน (ประเทศไทย) จำกัด',\n",
       "  'name_en': 'ABERDEEN ASSET MANAGEMENT (THAILAND) COMPANY LIMITED',\n",
       "  'last_upd_date': '2023-04-21T05:14:42'},\n",
       " {'unique_id': 'C0000000324',\n",
       "  'name_th': 'บริษัท หลักทรัพย์จัดการกองทุนทิสโก้ จำกัด',\n",
       "  'name_en': 'TISCO ASSET MANAGEMENT COMPANY LIMITED',\n",
       "  'last_upd_date': '2023-04-21T05:14:42'},\n",
       " {'unique_id': 'C0000000329',\n",
       "  'name_th': 'บริษัท หลักทรัพย์จัดการกองทุนรวมบัวหลวง จำกัด',\n",
       "  'name_en': 'BBL ASSET MANAGEMENT COMPANY LIMITED',\n",
       "  'last_upd_date': '2023-04-21T05:14:42'},\n",
       " {'unique_id': 'C0000000460',\n",
       "  'name_th': 'บริษัท หลักทรัพย์จัดการกองทุนกรุงไทย จำกัด (มหาชน)',\n",
       "  'name_en': 'KRUNG THAI ASSET MANAGEMENT PUBLIC COMPANY LIMITED',\n",
       "  'last_upd_date': '2023-04-21T05:14:42'},\n",
       " {'unique_id': 'C0000000569',\n",
       "  'name_th': 'บริษัท หลักทรัพย์จัดการกองทุน วรรณ จำกัด',\n",
       "  'name_en': 'ONE ASSET MANAGEMENT LIMITED',\n",
       "  'last_upd_date': '2023-04-21T05:14:42'},\n",
       " {'unique_id': 'C0000000623',\n",
       "  'name_th': 'บริษัท หลักทรัพย์จัดการกองทุนยูโอบี (ประเทศไทย) จำกัด',\n",
       "  'name_en': 'UOB ASSET MANAGEMENT (THAILAND) COMPANY LIMITED',\n",
       "  'last_upd_date': '2023-04-21T05:14:42'},\n",
       " {'unique_id': 'C0000000709',\n",
       "  'name_th': 'บริษัท หลักทรัพย์จัดการกองทุนกรุงศรี จำกัด',\n",
       "  'name_en': 'KRUNGSRI ASSET MANAGEMENT COMPANY LIMITED',\n",
       "  'last_upd_date': '2023-04-21T05:14:42'},\n",
       " {'unique_id': 'C0000000714',\n",
       "  'name_th': 'บริษัท หลักทรัพย์จัดการกองทุนธนชาต จำกัด',\n",
       "  'name_en': 'THANACHART FUND MANAGEMENT COMPANY LIMITED',\n",
       "  'last_upd_date': '2023-04-21T05:14:42'},\n",
       " {'unique_id': 'C0000003575',\n",
       "  'name_th': 'บริษัท หลักทรัพย์จัดการกองทุนสยาม ไนท์ ฟันด์ แมเนจเม้นท์ จำกัด',\n",
       "  'name_en': 'SIAM KNIGHT FUND MANAGEMENT SECURITIES COMPANY LIMITED',\n",
       "  'last_upd_date': '2023-04-21T05:14:42'},\n",
       " {'unique_id': 'C0000004884',\n",
       "  'name_th': 'บริษัท หลักทรัพย์จัดการกองทุนฟินันซ่า จำกัด',\n",
       "  'name_en': 'FINANSA ASSET MANAGEMENT COMPANY LIMITED',\n",
       "  'last_upd_date': '2023-04-21T05:14:42'},\n",
       " {'unique_id': 'C0000005022',\n",
       "  'name_th': 'บริษัท หลักทรัพย์จัดการกองทุนแอสเซท พลัส จำกัด',\n",
       "  'name_en': 'ASSET PLUS FUND MANAGEMENT COMPANY LIMITED',\n",
       "  'last_upd_date': '2023-04-21T05:14:42'},\n",
       " {'unique_id': 'C0000005025',\n",
       "  'name_th': 'บริษัท หลักทรัพย์จัดการกองทุนเกียรตินาคินภัทร จำกัด',\n",
       "  'name_en': 'KIATNAKIN PHATRA ASSET MANAGEMENT COMPANY LIMITED',\n",
       "  'last_upd_date': '2023-04-21T05:14:42'},\n",
       " {'unique_id': 'C0000005531',\n",
       "  'name_th': 'บริษัท หลักทรัพย์จัดการกองทุนพรินซิเพิล จำกัด',\n",
       "  'name_en': 'PRINCIPAL ASSET MANAGEMENT COMPANY LIMITED',\n",
       "  'last_upd_date': '2023-04-21T05:14:42'},\n",
       " {'unique_id': 'C0000006099',\n",
       "  'name_th': 'บริษัท หลักทรัพย์จัดการกองทุนเอ็กซ์สปริง จำกัด',\n",
       "  'name_en': 'XSPRING ASSET MANAGEMENT COMPANY LIMITED',\n",
       "  'last_upd_date': '2023-04-21T05:14:42'},\n",
       " {'unique_id': 'C0000006122',\n",
       "  'name_th': 'บริษัท หลักทรัพย์จัดการกองทุนรวมฟิลลิป จำกัด',\n",
       "  'name_en': 'PHILLIP ASSET MANAGEMENT COMPANY LIMITED',\n",
       "  'last_upd_date': '2023-04-21T05:14:42'},\n",
       " {'unique_id': 'C0000006185',\n",
       "  'name_th': 'บริษัท หลักทรัพย์จัดการกองทุนเคดับบลิวไอ จำกัด',\n",
       "  'name_en': 'KWI ASSET MANAGEMENT COMPANY LIMITED',\n",
       "  'last_upd_date': '2023-04-21T05:14:42'},\n",
       " {'unique_id': 'C0000006466',\n",
       "  'name_th': 'บริษัท หลักทรัพย์จัดการกองทุนเรนเนสซานซ์ จำกัด',\n",
       "  'name_en': 'RENAISSANCE FUND MANAGEMENT LIMITED',\n",
       "  'last_upd_date': '2023-04-21T05:14:42'},\n",
       " {'unique_id': 'C0000006646',\n",
       "  'name_th': 'บริษัท หลักทรัพย์จัดการกองทุนแลนด์ แอนด์ เฮ้าส์ จำกัด',\n",
       "  'name_en': 'LAND AND HOUSES FUND MANAGEMENT COMPANY LIMITED',\n",
       "  'last_upd_date': '2023-04-21T05:14:42'},\n",
       " {'unique_id': 'C0000021747',\n",
       "  'name_th': 'บริษัท หลักทรัพย์จัดการกองทุนบางกอกแคปปิตอล จำกัด',\n",
       "  'name_en': 'BANGKOK CAPITAL ASSET MANAGEMENT COMPANY LIMITED',\n",
       "  'last_upd_date': '2023-04-21T05:14:42'},\n",
       " {'unique_id': 'C0000024008',\n",
       "  'name_th': 'บริษัท หลักทรัพย์จัดการกองทุนทาลิส จำกัด',\n",
       "  'name_en': 'TALIS ASSET MANAGEMENT COMPANY LIMITED',\n",
       "  'last_upd_date': '2023-04-21T05:14:42'},\n",
       " {'unique_id': 'C0000028866',\n",
       "  'name_th': 'บริษัท หลักทรัพย์จัดการกองทุนดาโอ จำกัด',\n",
       "  'name_en': 'DAOL INVESTMENT MANAGEMENT COMPANY LIMITED',\n",
       "  'last_upd_date': '2023-04-21T05:14:42'},\n",
       " {'unique_id': 'C0000031161',\n",
       "  'name_th': 'บริษัท หลักทรัพย์จัดการกองทุนเอไอเอ (ประเทศไทย) จำกัด',\n",
       "  'name_en': 'AIA INVESTMENT MANAGEMENT (THAILAND) LIMITED',\n",
       "  'last_upd_date': '2023-04-21T05:14:42'}]"
      ]
     },
     "execution_count": 13,
     "metadata": {},
     "output_type": "execute_result"
    }
   ],
   "source": [
    "obj"
   ]
  },
  {
   "cell_type": "code",
   "execution_count": 22,
   "id": "a3dd5e0f",
   "metadata": {},
   "outputs": [],
   "source": [
    "# list of every unique_id\n",
    "man_firm = []\n",
    "for x in obj:\n",
    "    man_firm.append(x['unique_id'])"
   ]
  },
  {
   "cell_type": "code",
   "execution_count": null,
   "id": "ab0f242b",
   "metadata": {},
   "outputs": [],
   "source": [
    "print(man_firm)"
   ]
  },
  {
   "cell_type": "code",
   "execution_count": 28,
   "id": "9de65bd9",
   "metadata": {},
   "outputs": [
    {
     "name": "stdout",
     "output_type": "stream",
     "text": [
      "C0000000021\n",
      "C0000000023\n",
      "C0000000124\n",
      "C0000000182\n",
      "C0000000239\n",
      "C0000000290\n",
      "C0000000324\n",
      "C0000000329\n",
      "C0000000460\n",
      "C0000000569\n",
      "C0000000623\n",
      "C0000000709\n",
      "C0000000714\n",
      "C0000003575\n",
      "C0000004884\n",
      "C0000005022\n",
      "C0000005025\n",
      "C0000005531\n",
      "C0000006099\n",
      "C0000006122\n",
      "C0000006185\n",
      "C0000006466\n",
      "C0000006646\n",
      "C0000021747\n",
      "C0000024008\n",
      "C0000028866\n",
      "C0000031161\n"
     ]
    }
   ],
   "source": [
    "for x in man_firm:\n",
    "    print(x)"
   ]
  },
  {
   "cell_type": "code",
   "execution_count": 24,
   "id": "de66abb5",
   "metadata": {},
   "outputs": [
    {
     "name": "stdout",
     "output_type": "stream",
     "text": [
      "27\n"
     ]
    }
   ],
   "source": [
    "# 27 fund management firm\n",
    "print(len(man_firm))"
   ]
  },
  {
   "cell_type": "code",
   "execution_count": 36,
   "id": "c6b5f984",
   "metadata": {},
   "outputs": [],
   "source": [
    "def req_api():\n",
    "    for i in man_firm:\n",
    "        response = requests.get(f'https://api.sec.or.th/FundFactsheet/fund/amc/{i}', headers = headers2)\n",
    "        print(i) # unique_id\n",
    "        obj_dict = json.loads(response.text)\n",
    "        # list of mutual funds in one firm\n",
    "        lists = [] \n",
    "        for x in obj_dict:\n",
    "            # print(x['proj_id'])\n",
    "            lists.append(x['proj_id'])\n",
    "        rmf = []\n",
    "        ssf = []\n",
    "        now = datetime.now()\n",
    "        for j in lists:\n",
    "            response2 = requests.get(f'https://api.sec.or.th/FundFactsheet/fund/{j}/specification', headers = headers2)\n",
    "            if response2.status_code == 200:\n",
    "                for k in json.loads(response2.text): # res.txt[0] , res.txt[1]\n",
    "                    if k['spec_code'] == 'SSF' :\n",
    "                        ssf.append(i)\n",
    "                        # print(j)\n",
    "                        # print(k)\n",
    "                    elif k['spec_code'] == 'RMF':\n",
    "                        rmf.append(i)\n",
    "                        # print(j)\n",
    "                        # print(k)\n",
    "        end = datetime.now()\n",
    "        total = end - now\n",
    "        print(\"RMF: \"+ str(len(rmf)) + \" SSF: \"+ str(len(ssf)) + \" Total: \" + str(len(rmf)+len(ssf)))\n",
    "        print(\"========= THIS IS TOTAL :\" + str(total) + \" =========\")\n",
    "        print()"
   ]
  },
  {
   "cell_type": "code",
   "execution_count": null,
   "id": "cd175f8a",
   "metadata": {
    "scrolled": true
   },
   "outputs": [
    {
     "name": "stdout",
     "output_type": "stream",
     "text": [
      "C0000000021\n",
      "RMF: 23 SSF: 9 Total: 32\n",
      "========= THIS IS TOTAL :0:06:45.359769 =========\n",
      "\n",
      "C0000000023\n",
      "RMF: 16 SSF: 14 Total: 30\n",
      "========= THIS IS TOTAL :0:01:55.617974 =========\n",
      "\n",
      "C0000000124\n",
      "RMF: 0 SSF: 0 Total: 0\n",
      "========= THIS IS TOTAL :0:00:20.755862 =========\n",
      "\n",
      "C0000000182\n",
      "RMF: 0 SSF: 0 Total: 0\n",
      "========= THIS IS TOTAL :0:00:57.950237 =========\n",
      "\n",
      "C0000000239\n",
      "RMF: 31 SSF: 62 Total: 93\n",
      "========= THIS IS TOTAL :0:09:16.331633 =========\n",
      "\n",
      "C0000000290\n",
      "RMF: 5 SSF: 11 Total: 16\n",
      "========= THIS IS TOTAL :0:00:12.954012 =========\n",
      "\n",
      "C0000000324\n",
      "RMF: 21 SSF: 13 Total: 34\n",
      "========= THIS IS TOTAL :0:01:36.382277 =========\n",
      "\n",
      "C0000000329\n",
      "RMF: 30 SSF: 13 Total: 43\n",
      "========= THIS IS TOTAL :0:03:04.482425 =========\n",
      "\n",
      "C0000000460\n"
     ]
    }
   ],
   "source": [
    "req_api()"
   ]
  }
 ],
 "metadata": {
  "kernelspec": {
   "display_name": "Python 3 (ipykernel)",
   "language": "python",
   "name": "python3"
  },
  "language_info": {
   "codemirror_mode": {
    "name": "ipython",
    "version": 3
   },
   "file_extension": ".py",
   "mimetype": "text/x-python",
   "name": "python",
   "nbconvert_exporter": "python",
   "pygments_lexer": "ipython3",
   "version": "3.10.6"
  }
 },
 "nbformat": 4,
 "nbformat_minor": 5
}
