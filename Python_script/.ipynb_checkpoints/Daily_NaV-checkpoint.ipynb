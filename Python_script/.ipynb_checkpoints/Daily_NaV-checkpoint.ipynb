{
 "cells": [
  {
   "cell_type": "code",
   "execution_count": 13,
   "id": "101bdd56",
   "metadata": {},
   "outputs": [],
   "source": [
    "import requests\n",
    "import json\n",
    "import pandas as pd\n",
    "\n",
    "headers = {\n",
    "    # Request headers\n",
    "    'Ocp-Apim-Subscription-Key': 'afbbb604d2814b59b0e5fa6ff3717e16'\n",
    "}"
   ]
  },
  {
   "cell_type": "code",
   "execution_count": 14,
   "id": "983ec6e2",
   "metadata": {},
   "outputs": [],
   "source": [
    "proj_id = 'M0081_2544'\n",
    "nav_date = '2020-12-16'\n",
    "response = requests.get(f'https://api.sec.or.th/FundDailyInfo/{proj_id}/dailynav/{nav_date}', headers = headers)"
   ]
  },
  {
   "cell_type": "code",
   "execution_count": 15,
   "id": "16f5a3e7",
   "metadata": {},
   "outputs": [
    {
     "name": "stdout",
     "output_type": "stream",
     "text": [
      "b'{\\r\\n  \"last_upd_date\": \"2023-04-21T05:11:16\",\\r\\n  \"nav_date\": \"2020-12-16\",\\r\\n  \"net_asset\": 7249425939.47,\\r\\n  \"last_val\": 49.7713,\\r\\n  \"previous_val\": 0.0,\\r\\n  \"amc_info\": [\\r\\n    {\\r\\n      \"unique_id\": \"C0000000239\",\\r\\n      \"sell_price\": 49.7714,\\r\\n      \"buy_price\": 49.7713,\\r\\n      \"sell_swap_price\": 0.0,\\r\\n      \"buy_swap_price\": 0.0,\\r\\n      \"remark_th\": \" \",\\r\\n      \"remark_en\": \" \"\\r\\n    }\\r\\n  ]\\r\\n}'\n"
     ]
    }
   ],
   "source": [
    "res = response.content\n",
    "print(res)"
   ]
  },
  {
   "cell_type": "code",
   "execution_count": 17,
   "id": "ac4f16df",
   "metadata": {},
   "outputs": [
    {
     "data": {
      "text/plain": [
       "bytes"
      ]
     },
     "execution_count": 17,
     "metadata": {},
     "output_type": "execute_result"
    }
   ],
   "source": [
    "type(res)"
   ]
  },
  {
   "cell_type": "code",
   "execution_count": 18,
   "id": "b3217787",
   "metadata": {},
   "outputs": [],
   "source": [
    "dick = res.decode()"
   ]
  },
  {
   "cell_type": "code",
   "execution_count": 19,
   "id": "24f58abd",
   "metadata": {},
   "outputs": [
    {
     "data": {
      "text/plain": [
       "str"
      ]
     },
     "execution_count": 19,
     "metadata": {},
     "output_type": "execute_result"
    }
   ],
   "source": [
    "type(dick)"
   ]
  },
  {
   "cell_type": "code",
   "execution_count": 20,
   "id": "7f3de2ae",
   "metadata": {},
   "outputs": [
    {
     "name": "stdout",
     "output_type": "stream",
     "text": [
      "{\r\n",
      "  \"last_upd_date\": \"2023-04-21T05:11:16\",\r\n",
      "  \"nav_date\": \"2020-12-16\",\r\n",
      "  \"net_asset\": 7249425939.47,\r\n",
      "  \"last_val\": 49.7713,\r\n",
      "  \"previous_val\": 0.0,\r\n",
      "  \"amc_info\": [\r\n",
      "    {\r\n",
      "      \"unique_id\": \"C0000000239\",\r\n",
      "      \"sell_price\": 49.7714,\r\n",
      "      \"buy_price\": 49.7713,\r\n",
      "      \"sell_swap_price\": 0.0,\r\n",
      "      \"buy_swap_price\": 0.0,\r\n",
      "      \"remark_th\": \" \",\r\n",
      "      \"remark_en\": \" \"\r\n",
      "    }\r\n",
      "  ]\r\n",
      "}\n"
     ]
    }
   ],
   "source": [
    "print(dick)"
   ]
  },
  {
   "cell_type": "code",
   "execution_count": 21,
   "id": "85b49cb7",
   "metadata": {},
   "outputs": [
    {
     "name": "stdout",
     "output_type": "stream",
     "text": [
      "{'last_upd_date': '2023-04-21T05:11:16', 'nav_date': '2020-12-16', 'net_asset': 7249425939.47, 'last_val': 49.7713, 'previous_val': 0.0, 'amc_info': [{'unique_id': 'C0000000239', 'sell_price': 49.7714, 'buy_price': 49.7713, 'sell_swap_price': 0.0, 'buy_swap_price': 0.0, 'remark_th': ' ', 'remark_en': ' '}]}\n"
     ]
    }
   ],
   "source": [
    "XD = json.loads(res)\n",
    "print(XD)"
   ]
  },
  {
   "cell_type": "code",
   "execution_count": 22,
   "id": "935c8eb0",
   "metadata": {},
   "outputs": [
    {
     "data": {
      "text/plain": [
       "dict"
      ]
     },
     "execution_count": 22,
     "metadata": {},
     "output_type": "execute_result"
    }
   ],
   "source": [
    "type(XD)"
   ]
  },
  {
   "cell_type": "code",
   "execution_count": 24,
   "id": "9ed83733",
   "metadata": {},
   "outputs": [],
   "source": [
    "df = pd.DataFrame.from_dict(XD)"
   ]
  },
  {
   "cell_type": "code",
   "execution_count": 25,
   "id": "1c895c43",
   "metadata": {},
   "outputs": [
    {
     "data": {
      "text/html": [
       "<div>\n",
       "<style scoped>\n",
       "    .dataframe tbody tr th:only-of-type {\n",
       "        vertical-align: middle;\n",
       "    }\n",
       "\n",
       "    .dataframe tbody tr th {\n",
       "        vertical-align: top;\n",
       "    }\n",
       "\n",
       "    .dataframe thead th {\n",
       "        text-align: right;\n",
       "    }\n",
       "</style>\n",
       "<table border=\"1\" class=\"dataframe\">\n",
       "  <thead>\n",
       "    <tr style=\"text-align: right;\">\n",
       "      <th></th>\n",
       "      <th>last_upd_date</th>\n",
       "      <th>nav_date</th>\n",
       "      <th>net_asset</th>\n",
       "      <th>last_val</th>\n",
       "      <th>previous_val</th>\n",
       "      <th>amc_info</th>\n",
       "    </tr>\n",
       "  </thead>\n",
       "  <tbody>\n",
       "    <tr>\n",
       "      <th>0</th>\n",
       "      <td>2023-04-21T05:11:16</td>\n",
       "      <td>2020-12-16</td>\n",
       "      <td>7.249426e+09</td>\n",
       "      <td>49.7713</td>\n",
       "      <td>0.0</td>\n",
       "      <td>{'unique_id': 'C0000000239', 'sell_price': 49....</td>\n",
       "    </tr>\n",
       "  </tbody>\n",
       "</table>\n",
       "</div>"
      ],
      "text/plain": [
       "         last_upd_date    nav_date     net_asset  last_val  previous_val  \\\n",
       "0  2023-04-21T05:11:16  2020-12-16  7.249426e+09   49.7713           0.0   \n",
       "\n",
       "                                            amc_info  \n",
       "0  {'unique_id': 'C0000000239', 'sell_price': 49....  "
      ]
     },
     "execution_count": 25,
     "metadata": {},
     "output_type": "execute_result"
    }
   ],
   "source": [
    "df"
   ]
  },
  {
   "cell_type": "code",
   "execution_count": null,
   "id": "4a92829a",
   "metadata": {},
   "outputs": [],
   "source": [
    "for i in range(5):\n",
    "    "
   ]
  },
  {
   "cell_type": "code",
   "execution_count": null,
   "id": "fbba2fac",
   "metadata": {},
   "outputs": [],
   "source": [
    "#LOL กูไม่เข้าใจ code ที่ web sec api มันพาไปดู"
   ]
  },
  {
   "cell_type": "code",
   "execution_count": null,
   "id": "41a869b6",
   "metadata": {},
   "outputs": [],
   "source": [
    "#https://github.com/PiiTan/SEC-OpenAPI-Python-Sample/blob/master/AllRiskSpectrum.py"
   ]
  },
  {
   "cell_type": "code",
   "execution_count": null,
   "id": "5cda745d",
   "metadata": {},
   "outputs": [],
   "source": []
  }
 ],
 "metadata": {
  "kernelspec": {
   "display_name": "Python 3 (ipykernel)",
   "language": "python",
   "name": "python3"
  },
  "language_info": {
   "codemirror_mode": {
    "name": "ipython",
    "version": 3
   },
   "file_extension": ".py",
   "mimetype": "text/x-python",
   "name": "python",
   "nbconvert_exporter": "python",
   "pygments_lexer": "ipython3",
   "version": "3.10.6"
  }
 },
 "nbformat": 4,
 "nbformat_minor": 5
}
