{
 "cells": [
  {
   "cell_type": "code",
   "execution_count": 26,
   "id": "101bdd56",
   "metadata": {},
   "outputs": [],
   "source": [
    "import requests\n",
    "import json\n",
    "import pandas as pd\n",
    "\n",
    "headers = {\n",
    "    # Request headers\n",
    "    'Ocp-Apim-Subscription-Key': 'afbbb604d2814b59b0e5fa6ff3717e16'\n",
    "}"
   ]
  },
  {
   "cell_type": "code",
   "execution_count": 27,
   "id": "983ec6e2",
   "metadata": {},
   "outputs": [],
   "source": [
    "proj_id = 'M0081_2544'\n",
    "nav_date = '2020-12-16'\n",
    "response = requests.get(f'https://api.sec.or.th/FundDailyInfo/{proj_id}/dailynav/{nav_date}', headers = headers)"
   ]
  },
  {
   "cell_type": "code",
   "execution_count": 28,
   "id": "16f5a3e7",
   "metadata": {},
   "outputs": [
    {
     "name": "stdout",
     "output_type": "stream",
     "text": [
      "b'{\\r\\n  \"last_upd_date\": \"2023-04-21T05:11:16\",\\r\\n  \"nav_date\": \"2020-12-16\",\\r\\n  \"net_asset\": 7249425939.47,\\r\\n  \"last_val\": 49.7713,\\r\\n  \"previous_val\": 0.0,\\r\\n  \"amc_info\": [\\r\\n    {\\r\\n      \"unique_id\": \"C0000000239\",\\r\\n      \"sell_price\": 49.7714,\\r\\n      \"buy_price\": 49.7713,\\r\\n      \"sell_swap_price\": 0.0,\\r\\n      \"buy_swap_price\": 0.0,\\r\\n      \"remark_th\": \" \",\\r\\n      \"remark_en\": \" \"\\r\\n    }\\r\\n  ]\\r\\n}'\n"
     ]
    }
   ],
   "source": [
    "res = response.content\n",
    "print(res)"
   ]
  },
  {
   "cell_type": "code",
   "execution_count": 29,
   "id": "4874c147",
   "metadata": {},
   "outputs": [
    {
     "data": {
      "text/plain": [
       "int"
      ]
     },
     "execution_count": 29,
     "metadata": {},
     "output_type": "execute_result"
    }
   ],
   "source": [
    "type(response.status_code)"
   ]
  },
  {
   "cell_type": "code",
   "execution_count": 30,
   "id": "ac4f16df",
   "metadata": {},
   "outputs": [
    {
     "data": {
      "text/plain": [
       "bytes"
      ]
     },
     "execution_count": 30,
     "metadata": {},
     "output_type": "execute_result"
    }
   ],
   "source": [
    "type(res)"
   ]
  },
  {
   "cell_type": "code",
   "execution_count": 31,
   "id": "b3217787",
   "metadata": {},
   "outputs": [],
   "source": [
    "dick = res.decode()"
   ]
  },
  {
   "cell_type": "code",
   "execution_count": 32,
   "id": "24f58abd",
   "metadata": {},
   "outputs": [
    {
     "data": {
      "text/plain": [
       "str"
      ]
     },
     "execution_count": 32,
     "metadata": {},
     "output_type": "execute_result"
    }
   ],
   "source": [
    "type(dick)"
   ]
  },
  {
   "cell_type": "code",
   "execution_count": 33,
   "id": "7f3de2ae",
   "metadata": {},
   "outputs": [
    {
     "name": "stdout",
     "output_type": "stream",
     "text": [
      "{\r\n",
      "  \"last_upd_date\": \"2023-04-21T05:11:16\",\r\n",
      "  \"nav_date\": \"2020-12-16\",\r\n",
      "  \"net_asset\": 7249425939.47,\r\n",
      "  \"last_val\": 49.7713,\r\n",
      "  \"previous_val\": 0.0,\r\n",
      "  \"amc_info\": [\r\n",
      "    {\r\n",
      "      \"unique_id\": \"C0000000239\",\r\n",
      "      \"sell_price\": 49.7714,\r\n",
      "      \"buy_price\": 49.7713,\r\n",
      "      \"sell_swap_price\": 0.0,\r\n",
      "      \"buy_swap_price\": 0.0,\r\n",
      "      \"remark_th\": \" \",\r\n",
      "      \"remark_en\": \" \"\r\n",
      "    }\r\n",
      "  ]\r\n",
      "}\n"
     ]
    }
   ],
   "source": [
    "print(dick)"
   ]
  },
  {
   "cell_type": "code",
   "execution_count": 34,
   "id": "85b49cb7",
   "metadata": {},
   "outputs": [
    {
     "name": "stdout",
     "output_type": "stream",
     "text": [
      "{'last_upd_date': '2023-04-21T05:11:16', 'nav_date': '2020-12-16', 'net_asset': 7249425939.47, 'last_val': 49.7713, 'previous_val': 0.0, 'amc_info': [{'unique_id': 'C0000000239', 'sell_price': 49.7714, 'buy_price': 49.7713, 'sell_swap_price': 0.0, 'buy_swap_price': 0.0, 'remark_th': ' ', 'remark_en': ' '}]}\n"
     ]
    }
   ],
   "source": [
    "XD = json.loads(res)\n",
    "print(XD)"
   ]
  },
  {
   "cell_type": "code",
   "execution_count": 35,
   "id": "935c8eb0",
   "metadata": {},
   "outputs": [
    {
     "data": {
      "text/plain": [
       "dict"
      ]
     },
     "execution_count": 35,
     "metadata": {},
     "output_type": "execute_result"
    }
   ],
   "source": [
    "type(XD)"
   ]
  },
  {
   "cell_type": "code",
   "execution_count": 36,
   "id": "9ed83733",
   "metadata": {},
   "outputs": [],
   "source": [
    "df = pd.DataFrame.from_dict(XD)"
   ]
  },
  {
   "cell_type": "code",
   "execution_count": 37,
   "id": "1c895c43",
   "metadata": {},
   "outputs": [
    {
     "data": {
      "text/html": [
       "<div>\n",
       "<style scoped>\n",
       "    .dataframe tbody tr th:only-of-type {\n",
       "        vertical-align: middle;\n",
       "    }\n",
       "\n",
       "    .dataframe tbody tr th {\n",
       "        vertical-align: top;\n",
       "    }\n",
       "\n",
       "    .dataframe thead th {\n",
       "        text-align: right;\n",
       "    }\n",
       "</style>\n",
       "<table border=\"1\" class=\"dataframe\">\n",
       "  <thead>\n",
       "    <tr style=\"text-align: right;\">\n",
       "      <th></th>\n",
       "      <th>last_upd_date</th>\n",
       "      <th>nav_date</th>\n",
       "      <th>net_asset</th>\n",
       "      <th>last_val</th>\n",
       "      <th>previous_val</th>\n",
       "      <th>amc_info</th>\n",
       "    </tr>\n",
       "  </thead>\n",
       "  <tbody>\n",
       "    <tr>\n",
       "      <th>0</th>\n",
       "      <td>2023-04-21T05:11:16</td>\n",
       "      <td>2020-12-16</td>\n",
       "      <td>7.249426e+09</td>\n",
       "      <td>49.7713</td>\n",
       "      <td>0.0</td>\n",
       "      <td>{'unique_id': 'C0000000239', 'sell_price': 49....</td>\n",
       "    </tr>\n",
       "  </tbody>\n",
       "</table>\n",
       "</div>"
      ],
      "text/plain": [
       "         last_upd_date    nav_date     net_asset  last_val  previous_val  \\\n",
       "0  2023-04-21T05:11:16  2020-12-16  7.249426e+09   49.7713           0.0   \n",
       "\n",
       "                                            amc_info  \n",
       "0  {'unique_id': 'C0000000239', 'sell_price': 49....  "
      ]
     },
     "execution_count": 37,
     "metadata": {},
     "output_type": "execute_result"
    }
   ],
   "source": [
    "df"
   ]
  },
  {
   "cell_type": "code",
   "execution_count": 38,
   "id": "4a92829a",
   "metadata": {},
   "outputs": [
    {
     "name": "stdout",
     "output_type": "stream",
     "text": [
      "2023-02-27\n",
      "2023-02-28\n",
      "2023-03-01\n",
      "2023-03-02\n",
      "2023-03-03\n",
      "2023-03-04\n",
      "2023-03-05\n",
      "2023-03-06\n",
      "2023-03-07\n",
      "2023-03-08\n",
      "2023-03-09\n",
      "2023-03-10\n",
      "2023-03-11\n",
      "2023-03-12\n",
      "2023-03-13\n",
      "2023-03-14\n",
      "2023-03-15\n",
      "2023-03-16\n",
      "2023-03-17\n",
      "2023-03-18\n",
      "2023-03-19\n",
      "2023-03-20\n",
      "2023-03-21\n",
      "2023-03-22\n",
      "2023-03-23\n",
      "2023-03-24\n",
      "2023-03-25\n",
      "2023-03-26\n",
      "2023-03-27\n",
      "2023-03-28\n",
      "2023-03-29\n",
      "2023-03-30\n",
      "2023-03-31\n",
      "2023-04-01\n",
      "2023-04-02\n",
      "2023-04-03\n",
      "2023-04-04\n",
      "2023-04-05\n",
      "2023-04-06\n",
      "2023-04-07\n",
      "2023-04-08\n",
      "2023-04-09\n",
      "2023-04-10\n",
      "2023-04-11\n",
      "2023-04-12\n",
      "2023-04-13\n",
      "2023-04-14\n",
      "2023-04-15\n",
      "2023-04-16\n",
      "2023-04-17\n",
      "2023-04-18\n",
      "2023-04-19\n",
      "2023-04-20\n"
     ]
    }
   ],
   "source": [
    "from datetime import date, timedelta\n",
    "\n",
    "def daterange(start_date, end_date):\n",
    "    for n in range(int((end_date - start_date).days)):\n",
    "        yield start_date + timedelta(n)\n",
    "\n",
    "start_date = date(2023, 2, 27)\n",
    "end_date = date(2023, 4, 21)\n",
    "for single_date in daterange(start_date, end_date):\n",
    "    print(single_date.strftime(\"%Y-%m-%d\"))"
   ]
  },
  {
   "cell_type": "code",
   "execution_count": 43,
   "id": "fbba2fac",
   "metadata": {},
   "outputs": [
    {
     "name": "stdout",
     "output_type": "stream",
     "text": [
      "<Response [200]>\n",
      "{\r\n",
      "  \"last_upd_date\": \"2023-04-21T05:11:16\",\r\n",
      "  \"nav_date\": \"2023-02-27\",\r\n",
      "  \"net_asset\": 8572077265.84,\r\n",
      "  \"last_val\": 55.3676,\r\n",
      "  \"previous_val\": 0.0,\r\n",
      "  \"amc_info\": [\r\n",
      "    {\r\n",
      "      \"unique_id\": \"C0000000239\",\r\n",
      "      \"sell_price\": 55.3677,\r\n",
      "      \"buy_price\": 55.3676,\r\n",
      "      \"sell_swap_price\": 55.3676,\r\n",
      "      \"buy_swap_price\": 55.3677,\r\n",
      "      \"remark_th\": \" \",\r\n",
      "      \"remark_en\": \" \"\r\n",
      "    }\r\n",
      "  ]\r\n",
      "}\n"
     ]
    },
    {
     "name": "stderr",
     "output_type": "stream",
     "text": [
      "C:\\Users\\momot\\AppData\\Local\\Temp\\ipykernel_21112\\3380818930.py:13: FutureWarning: The frame.append method is deprecated and will be removed from pandas in a future version. Use pandas.concat instead.\n",
      "  df = df.append(XD,ignore_index = True)\n"
     ]
    },
    {
     "name": "stdout",
     "output_type": "stream",
     "text": [
      "<Response [200]>\n",
      "{\r\n",
      "  \"last_upd_date\": \"2023-04-21T05:11:16\",\r\n",
      "  \"nav_date\": \"2023-02-28\",\r\n",
      "  \"net_asset\": 8547068951.93,\r\n",
      "  \"last_val\": 55.1807,\r\n",
      "  \"previous_val\": 0.0,\r\n",
      "  \"amc_info\": [\r\n",
      "    {\r\n",
      "      \"unique_id\": \"C0000000239\",\r\n",
      "      \"sell_price\": 55.1808,\r\n",
      "      \"buy_price\": 55.1807,\r\n",
      "      \"sell_swap_price\": 55.1807,\r\n",
      "      \"buy_swap_price\": 55.1808,\r\n",
      "      \"remark_th\": \" \",\r\n",
      "      \"remark_en\": \" \"\r\n",
      "    }\r\n",
      "  ]\r\n",
      "}\n"
     ]
    },
    {
     "name": "stderr",
     "output_type": "stream",
     "text": [
      "C:\\Users\\momot\\AppData\\Local\\Temp\\ipykernel_21112\\3380818930.py:13: FutureWarning: The frame.append method is deprecated and will be removed from pandas in a future version. Use pandas.concat instead.\n",
      "  df = df.append(XD,ignore_index = True)\n"
     ]
    },
    {
     "name": "stdout",
     "output_type": "stream",
     "text": [
      "<Response [200]>\n",
      "{\r\n",
      "  \"last_upd_date\": \"2023-04-21T05:11:16\",\r\n",
      "  \"nav_date\": \"2023-03-01\",\r\n",
      "  \"net_asset\": 8541922163.66,\r\n",
      "  \"last_val\": 55.0924,\r\n",
      "  \"previous_val\": 0.0,\r\n",
      "  \"amc_info\": [\r\n",
      "    {\r\n",
      "      \"unique_id\": \"C0000000239\",\r\n",
      "      \"sell_price\": 55.0925,\r\n",
      "      \"buy_price\": 55.0924,\r\n",
      "      \"sell_swap_price\": 55.0924,\r\n",
      "      \"buy_swap_price\": 55.0925,\r\n",
      "      \"remark_th\": \" \",\r\n",
      "      \"remark_en\": \" \"\r\n",
      "    }\r\n",
      "  ]\r\n",
      "}\n"
     ]
    },
    {
     "name": "stderr",
     "output_type": "stream",
     "text": [
      "C:\\Users\\momot\\AppData\\Local\\Temp\\ipykernel_21112\\3380818930.py:13: FutureWarning: The frame.append method is deprecated and will be removed from pandas in a future version. Use pandas.concat instead.\n",
      "  df = df.append(XD,ignore_index = True)\n"
     ]
    },
    {
     "name": "stdout",
     "output_type": "stream",
     "text": [
      "<Response [200]>\n",
      "{\r\n",
      "  \"last_upd_date\": \"2023-04-21T05:11:16\",\r\n",
      "  \"nav_date\": \"2023-03-02\",\r\n",
      "  \"net_asset\": 8499623553.92,\r\n",
      "  \"last_val\": 54.8038,\r\n",
      "  \"previous_val\": 0.0,\r\n",
      "  \"amc_info\": [\r\n",
      "    {\r\n",
      "      \"unique_id\": \"C0000000239\",\r\n",
      "      \"sell_price\": 54.8039,\r\n",
      "      \"buy_price\": 54.8038,\r\n",
      "      \"sell_swap_price\": 54.8038,\r\n",
      "      \"buy_swap_price\": 54.8039,\r\n",
      "      \"remark_th\": \" \",\r\n",
      "      \"remark_en\": \" \"\r\n",
      "    }\r\n",
      "  ]\r\n",
      "}\n"
     ]
    },
    {
     "name": "stderr",
     "output_type": "stream",
     "text": [
      "C:\\Users\\momot\\AppData\\Local\\Temp\\ipykernel_21112\\3380818930.py:13: FutureWarning: The frame.append method is deprecated and will be removed from pandas in a future version. Use pandas.concat instead.\n",
      "  df = df.append(XD,ignore_index = True)\n"
     ]
    },
    {
     "name": "stdout",
     "output_type": "stream",
     "text": [
      "<Response [200]>\n",
      "{\r\n",
      "  \"last_upd_date\": \"2023-04-21T05:11:16\",\r\n",
      "  \"nav_date\": \"2023-03-03\",\r\n",
      "  \"net_asset\": 8468115281.49,\r\n",
      "  \"last_val\": 54.6268,\r\n",
      "  \"previous_val\": 0.0,\r\n",
      "  \"amc_info\": [\r\n",
      "    {\r\n",
      "      \"unique_id\": \"C0000000239\",\r\n",
      "      \"sell_price\": 54.6269,\r\n",
      "      \"buy_price\": 54.6268,\r\n",
      "      \"sell_swap_price\": 54.6268,\r\n",
      "      \"buy_swap_price\": 54.6269,\r\n",
      "      \"remark_th\": \" \",\r\n",
      "      \"remark_en\": \" \"\r\n",
      "    }\r\n",
      "  ]\r\n",
      "}\n"
     ]
    },
    {
     "name": "stderr",
     "output_type": "stream",
     "text": [
      "C:\\Users\\momot\\AppData\\Local\\Temp\\ipykernel_21112\\3380818930.py:13: FutureWarning: The frame.append method is deprecated and will be removed from pandas in a future version. Use pandas.concat instead.\n",
      "  df = df.append(XD,ignore_index = True)\n"
     ]
    },
    {
     "name": "stdout",
     "output_type": "stream",
     "text": [
      "<Response [204]>\n",
      "\n",
      "2023-03-04 Skipped\n",
      "<Response [204]>\n",
      "\n",
      "2023-03-05 Skipped\n",
      "<Response [204]>\n",
      "\n",
      "2023-03-06 Skipped\n",
      "<Response [200]>\n",
      "{\n",
      "  \"last_upd_date\": \"2023-04-21T05:11:16\",\n",
      "  \"nav_date\": \"2023-03-07\",\n",
      "  \"net_asset\": 8526047651.43,\n",
      "  \"last_val\": 54.93,\n",
      "  \"previous_val\": 0.0,\n",
      "  \"amc_info\": [\n",
      "    {\n",
      "      \"unique_id\": \"C0000000239\",\n",
      "      \"sell_price\": 54.9301,\n",
      "      \"buy_price\": 54.93,\n",
      "      \"sell_swap_price\": 54.93,\n",
      "      \"buy_swap_price\": 54.9301,\n",
      "      \"remark_th\": \" \",\n",
      "      \"remark_en\": \" \"\n",
      "    }\n",
      "  ]\n",
      "}\n"
     ]
    },
    {
     "name": "stderr",
     "output_type": "stream",
     "text": [
      "C:\\Users\\momot\\AppData\\Local\\Temp\\ipykernel_21112\\3380818930.py:13: FutureWarning: The frame.append method is deprecated and will be removed from pandas in a future version. Use pandas.concat instead.\n",
      "  df = df.append(XD,ignore_index = True)\n"
     ]
    },
    {
     "name": "stdout",
     "output_type": "stream",
     "text": [
      "<Response [200]>\n",
      "{\r\n",
      "  \"last_upd_date\": \"2023-04-21T05:11:16\",\r\n",
      "  \"nav_date\": \"2023-03-08\",\r\n",
      "  \"net_asset\": 8508211849.89,\r\n",
      "  \"last_val\": 54.792,\r\n",
      "  \"previous_val\": 0.0,\r\n",
      "  \"amc_info\": [\r\n",
      "    {\r\n",
      "      \"unique_id\": \"C0000000239\",\r\n",
      "      \"sell_price\": 54.7921,\r\n",
      "      \"buy_price\": 54.792,\r\n",
      "      \"sell_swap_price\": 54.792,\r\n",
      "      \"buy_swap_price\": 54.7921,\r\n",
      "      \"remark_th\": \" \",\r\n",
      "      \"remark_en\": \" \"\r\n",
      "    }\r\n",
      "  ]\r\n",
      "}\n"
     ]
    },
    {
     "name": "stderr",
     "output_type": "stream",
     "text": [
      "C:\\Users\\momot\\AppData\\Local\\Temp\\ipykernel_21112\\3380818930.py:13: FutureWarning: The frame.append method is deprecated and will be removed from pandas in a future version. Use pandas.concat instead.\n",
      "  df = df.append(XD,ignore_index = True)\n"
     ]
    },
    {
     "name": "stdout",
     "output_type": "stream",
     "text": [
      "<Response [200]>\n",
      "{\r\n",
      "  \"last_upd_date\": \"2023-04-21T05:11:16\",\r\n",
      "  \"nav_date\": \"2023-03-09\",\r\n",
      "  \"net_asset\": 8532229238.07,\r\n",
      "  \"last_val\": 54.8946,\r\n",
      "  \"previous_val\": 0.0,\r\n",
      "  \"amc_info\": [\r\n",
      "    {\r\n",
      "      \"unique_id\": \"C0000000239\",\r\n",
      "      \"sell_price\": 54.8947,\r\n",
      "      \"buy_price\": 54.8946,\r\n",
      "      \"sell_swap_price\": 54.8946,\r\n",
      "      \"buy_swap_price\": 54.8947,\r\n",
      "      \"remark_th\": \" \",\r\n",
      "      \"remark_en\": \" \"\r\n",
      "    }\r\n",
      "  ]\r\n",
      "}\n"
     ]
    },
    {
     "name": "stderr",
     "output_type": "stream",
     "text": [
      "C:\\Users\\momot\\AppData\\Local\\Temp\\ipykernel_21112\\3380818930.py:13: FutureWarning: The frame.append method is deprecated and will be removed from pandas in a future version. Use pandas.concat instead.\n",
      "  df = df.append(XD,ignore_index = True)\n"
     ]
    },
    {
     "name": "stdout",
     "output_type": "stream",
     "text": [
      "<Response [200]>\n",
      "{\r\n",
      "  \"last_upd_date\": \"2023-04-21T05:11:16\",\r\n",
      "  \"nav_date\": \"2023-03-10\",\r\n",
      "  \"net_asset\": 8462421053.02,\r\n",
      "  \"last_val\": 54.4395,\r\n",
      "  \"previous_val\": 0.0,\r\n",
      "  \"amc_info\": [\r\n",
      "    {\r\n",
      "      \"unique_id\": \"C0000000239\",\r\n",
      "      \"sell_price\": 54.4396,\r\n",
      "      \"buy_price\": 54.4395,\r\n",
      "      \"sell_swap_price\": 54.4395,\r\n",
      "      \"buy_swap_price\": 54.4396,\r\n",
      "      \"remark_th\": \" \",\r\n",
      "      \"remark_en\": \" \"\r\n",
      "    }\r\n",
      "  ]\r\n",
      "}\n"
     ]
    },
    {
     "name": "stderr",
     "output_type": "stream",
     "text": [
      "C:\\Users\\momot\\AppData\\Local\\Temp\\ipykernel_21112\\3380818930.py:13: FutureWarning: The frame.append method is deprecated and will be removed from pandas in a future version. Use pandas.concat instead.\n",
      "  df = df.append(XD,ignore_index = True)\n"
     ]
    },
    {
     "name": "stdout",
     "output_type": "stream",
     "text": [
      "<Response [204]>\n",
      "\n",
      "2023-03-11 Skipped\n",
      "<Response [204]>\n",
      "\n",
      "2023-03-12 Skipped\n",
      "<Response [200]>\n",
      "{\n",
      "  \"last_upd_date\": \"2023-04-21T05:11:16\",\n",
      "  \"nav_date\": \"2023-03-13\",\n",
      "  \"net_asset\": 8348045867.22,\n",
      "  \"last_val\": 53.6425,\n",
      "  \"previous_val\": 0.0,\n",
      "  \"amc_info\": [\n",
      "    {\n",
      "      \"unique_id\": \"C0000000239\",\n",
      "      \"sell_price\": 53.6426,\n",
      "      \"buy_price\": 53.6425,\n",
      "      \"sell_swap_price\": 53.6425,\n",
      "      \"buy_swap_price\": 53.6426,\n",
      "      \"remark_th\": \" \",\n",
      "      \"remark_en\": \" \"\n",
      "    }\n",
      "  ]\n",
      "}\n"
     ]
    },
    {
     "name": "stderr",
     "output_type": "stream",
     "text": [
      "C:\\Users\\momot\\AppData\\Local\\Temp\\ipykernel_21112\\3380818930.py:13: FutureWarning: The frame.append method is deprecated and will be removed from pandas in a future version. Use pandas.concat instead.\n",
      "  df = df.append(XD,ignore_index = True)\n"
     ]
    },
    {
     "name": "stdout",
     "output_type": "stream",
     "text": [
      "<Response [200]>\n",
      "{\r\n",
      "  \"last_upd_date\": \"2023-04-21T05:11:16\",\r\n",
      "  \"nav_date\": \"2023-03-14\",\r\n",
      "  \"net_asset\": 8105097066.51,\r\n",
      "  \"last_val\": 52.0732,\r\n",
      "  \"previous_val\": 0.0,\r\n",
      "  \"amc_info\": [\r\n",
      "    {\r\n",
      "      \"unique_id\": \"C0000000239\",\r\n",
      "      \"sell_price\": 52.0733,\r\n",
      "      \"buy_price\": 52.0732,\r\n",
      "      \"sell_swap_price\": 52.0732,\r\n",
      "      \"buy_swap_price\": 52.0733,\r\n",
      "      \"remark_th\": \" \",\r\n",
      "      \"remark_en\": \" \"\r\n",
      "    }\r\n",
      "  ]\r\n",
      "}\n"
     ]
    },
    {
     "name": "stderr",
     "output_type": "stream",
     "text": [
      "C:\\Users\\momot\\AppData\\Local\\Temp\\ipykernel_21112\\3380818930.py:13: FutureWarning: The frame.append method is deprecated and will be removed from pandas in a future version. Use pandas.concat instead.\n",
      "  df = df.append(XD,ignore_index = True)\n"
     ]
    },
    {
     "name": "stdout",
     "output_type": "stream",
     "text": [
      "<Response [200]>\n",
      "{\r\n",
      "  \"last_upd_date\": \"2023-04-21T05:11:16\",\r\n",
      "  \"nav_date\": \"2023-03-15\",\r\n",
      "  \"net_asset\": 8353707198.63,\r\n",
      "  \"last_val\": 53.4719,\r\n",
      "  \"previous_val\": 0.0,\r\n",
      "  \"amc_info\": [\r\n",
      "    {\r\n",
      "      \"unique_id\": \"C0000000239\",\r\n",
      "      \"sell_price\": 53.472,\r\n",
      "      \"buy_price\": 53.4719,\r\n",
      "      \"sell_swap_price\": 53.4719,\r\n",
      "      \"buy_swap_price\": 53.472,\r\n",
      "      \"remark_th\": \" \",\r\n",
      "      \"remark_en\": \" \"\r\n",
      "    }\r\n",
      "  ]\r\n",
      "}\n"
     ]
    },
    {
     "name": "stderr",
     "output_type": "stream",
     "text": [
      "C:\\Users\\momot\\AppData\\Local\\Temp\\ipykernel_21112\\3380818930.py:13: FutureWarning: The frame.append method is deprecated and will be removed from pandas in a future version. Use pandas.concat instead.\n",
      "  df = df.append(XD,ignore_index = True)\n"
     ]
    },
    {
     "name": "stdout",
     "output_type": "stream",
     "text": [
      "<Response [200]>\n",
      "{\r\n",
      "  \"last_upd_date\": \"2023-04-21T05:11:16\",\r\n",
      "  \"nav_date\": \"2023-03-16\",\r\n",
      "  \"net_asset\": 8307649015.67,\r\n",
      "  \"last_val\": 53.0975,\r\n",
      "  \"previous_val\": 0.0,\r\n",
      "  \"amc_info\": [\r\n",
      "    {\r\n",
      "      \"unique_id\": \"C0000000239\",\r\n",
      "      \"sell_price\": 53.0976,\r\n",
      "      \"buy_price\": 53.0975,\r\n",
      "      \"sell_swap_price\": 53.0975,\r\n",
      "      \"buy_swap_price\": 53.0976,\r\n",
      "      \"remark_th\": \" \",\r\n",
      "      \"remark_en\": \" \"\r\n",
      "    }\r\n",
      "  ]\r\n",
      "}\n"
     ]
    },
    {
     "name": "stderr",
     "output_type": "stream",
     "text": [
      "C:\\Users\\momot\\AppData\\Local\\Temp\\ipykernel_21112\\3380818930.py:13: FutureWarning: The frame.append method is deprecated and will be removed from pandas in a future version. Use pandas.concat instead.\n",
      "  df = df.append(XD,ignore_index = True)\n"
     ]
    },
    {
     "name": "stdout",
     "output_type": "stream",
     "text": [
      "<Response [200]>\n",
      "{\r\n",
      "  \"last_upd_date\": \"2023-04-21T05:11:16\",\r\n",
      "  \"nav_date\": \"2023-03-17\",\r\n",
      "  \"net_asset\": 8394309495.39,\r\n",
      "  \"last_val\": 53.477,\r\n",
      "  \"previous_val\": 0.0,\r\n",
      "  \"amc_info\": [\r\n",
      "    {\r\n",
      "      \"unique_id\": \"C0000000239\",\r\n",
      "      \"sell_price\": 53.4771,\r\n",
      "      \"buy_price\": 53.477,\r\n",
      "      \"sell_swap_price\": 53.477,\r\n",
      "      \"buy_swap_price\": 53.4771,\r\n",
      "      \"remark_th\": \" \",\r\n",
      "      \"remark_en\": \" \"\r\n",
      "    }\r\n",
      "  ]\r\n",
      "}\n"
     ]
    },
    {
     "name": "stderr",
     "output_type": "stream",
     "text": [
      "C:\\Users\\momot\\AppData\\Local\\Temp\\ipykernel_21112\\3380818930.py:13: FutureWarning: The frame.append method is deprecated and will be removed from pandas in a future version. Use pandas.concat instead.\n",
      "  df = df.append(XD,ignore_index = True)\n"
     ]
    },
    {
     "name": "stdout",
     "output_type": "stream",
     "text": [
      "<Response [204]>\n",
      "\n",
      "2023-03-18 Skipped\n",
      "<Response [204]>\n",
      "\n",
      "2023-03-19 Skipped\n",
      "<Response [200]>\n",
      "{\n",
      "  \"last_upd_date\": \"2023-04-21T05:11:16\",\n",
      "  \"nav_date\": \"2023-03-20\",\n",
      "  \"net_asset\": 8334235423.45,\n",
      "  \"last_val\": 53.1014,\n",
      "  \"previous_val\": 0.0,\n",
      "  \"amc_info\": [\n",
      "    {\n",
      "      \"unique_id\": \"C0000000239\",\n",
      "      \"sell_price\": 53.1015,\n",
      "      \"buy_price\": 53.1014,\n",
      "      \"sell_swap_price\": 53.1014,\n",
      "      \"buy_swap_price\": 53.1015,\n",
      "      \"remark_th\": \" \",\n",
      "      \"remark_en\": \" \"\n",
      "    }\n",
      "  ]\n",
      "}\n"
     ]
    },
    {
     "name": "stderr",
     "output_type": "stream",
     "text": [
      "C:\\Users\\momot\\AppData\\Local\\Temp\\ipykernel_21112\\3380818930.py:13: FutureWarning: The frame.append method is deprecated and will be removed from pandas in a future version. Use pandas.concat instead.\n",
      "  df = df.append(XD,ignore_index = True)\n"
     ]
    },
    {
     "name": "stdout",
     "output_type": "stream",
     "text": [
      "<Response [200]>\n",
      "{\r\n",
      "  \"last_upd_date\": \"2023-04-21T05:11:16\",\r\n",
      "  \"nav_date\": \"2023-03-21\",\r\n",
      "  \"net_asset\": 8471742336.13,\r\n",
      "  \"last_val\": 53.9016,\r\n",
      "  \"previous_val\": 0.0,\r\n",
      "  \"amc_info\": [\r\n",
      "    {\r\n",
      "      \"unique_id\": \"C0000000239\",\r\n",
      "      \"sell_price\": 53.9017,\r\n",
      "      \"buy_price\": 53.9016,\r\n",
      "      \"sell_swap_price\": 53.9016,\r\n",
      "      \"buy_swap_price\": 53.9017,\r\n",
      "      \"remark_th\": \" \",\r\n",
      "      \"remark_en\": \" \"\r\n",
      "    }\r\n",
      "  ]\r\n",
      "}\n"
     ]
    },
    {
     "name": "stderr",
     "output_type": "stream",
     "text": [
      "C:\\Users\\momot\\AppData\\Local\\Temp\\ipykernel_21112\\3380818930.py:13: FutureWarning: The frame.append method is deprecated and will be removed from pandas in a future version. Use pandas.concat instead.\n",
      "  df = df.append(XD,ignore_index = True)\n"
     ]
    },
    {
     "name": "stdout",
     "output_type": "stream",
     "text": [
      "<Response [200]>\n",
      "{\r\n",
      "  \"last_upd_date\": \"2023-04-21T05:11:16\",\r\n",
      "  \"nav_date\": \"2023-03-22\",\r\n",
      "  \"net_asset\": 8529813881.45,\r\n",
      "  \"last_val\": 54.2228,\r\n",
      "  \"previous_val\": 0.0,\r\n",
      "  \"amc_info\": [\r\n",
      "    {\r\n",
      "      \"unique_id\": \"C0000000239\",\r\n",
      "      \"sell_price\": 54.2229,\r\n",
      "      \"buy_price\": 54.2228,\r\n",
      "      \"sell_swap_price\": 54.2228,\r\n",
      "      \"buy_swap_price\": 54.2229,\r\n",
      "      \"remark_th\": \" \",\r\n",
      "      \"remark_en\": \" \"\r\n",
      "    }\r\n",
      "  ]\r\n",
      "}\n"
     ]
    },
    {
     "name": "stderr",
     "output_type": "stream",
     "text": [
      "C:\\Users\\momot\\AppData\\Local\\Temp\\ipykernel_21112\\3380818930.py:13: FutureWarning: The frame.append method is deprecated and will be removed from pandas in a future version. Use pandas.concat instead.\n",
      "  df = df.append(XD,ignore_index = True)\n"
     ]
    },
    {
     "name": "stdout",
     "output_type": "stream",
     "text": [
      "<Response [200]>\n",
      "{\r\n",
      "  \"last_upd_date\": \"2023-04-21T05:11:16\",\r\n",
      "  \"nav_date\": \"2023-03-23\",\r\n",
      "  \"net_asset\": 8584344819.15,\r\n",
      "  \"last_val\": 54.5603,\r\n",
      "  \"previous_val\": 0.0,\r\n",
      "  \"amc_info\": [\r\n",
      "    {\r\n",
      "      \"unique_id\": \"C0000000239\",\r\n",
      "      \"sell_price\": 54.5604,\r\n",
      "      \"buy_price\": 54.5603,\r\n",
      "      \"sell_swap_price\": 54.5603,\r\n",
      "      \"buy_swap_price\": 54.5604,\r\n",
      "      \"remark_th\": \" \",\r\n",
      "      \"remark_en\": \" \"\r\n",
      "    }\r\n",
      "  ]\r\n",
      "}\n"
     ]
    },
    {
     "name": "stderr",
     "output_type": "stream",
     "text": [
      "C:\\Users\\momot\\AppData\\Local\\Temp\\ipykernel_21112\\3380818930.py:13: FutureWarning: The frame.append method is deprecated and will be removed from pandas in a future version. Use pandas.concat instead.\n",
      "  df = df.append(XD,ignore_index = True)\n"
     ]
    },
    {
     "name": "stdout",
     "output_type": "stream",
     "text": [
      "<Response [200]>\n",
      "{\r\n",
      "  \"last_upd_date\": \"2023-04-21T05:11:16\",\r\n",
      "  \"nav_date\": \"2023-03-24\",\r\n",
      "  \"net_asset\": 8575094828.16,\r\n",
      "  \"last_val\": 54.52,\r\n",
      "  \"previous_val\": 0.0,\r\n",
      "  \"amc_info\": [\r\n",
      "    {\r\n",
      "      \"unique_id\": \"C0000000239\",\r\n",
      "      \"sell_price\": 54.5201,\r\n",
      "      \"buy_price\": 54.52,\r\n",
      "      \"sell_swap_price\": 54.52,\r\n",
      "      \"buy_swap_price\": 54.5201,\r\n",
      "      \"remark_th\": \" \",\r\n",
      "      \"remark_en\": \" \"\r\n",
      "    }\r\n",
      "  ]\r\n",
      "}\n"
     ]
    },
    {
     "name": "stderr",
     "output_type": "stream",
     "text": [
      "C:\\Users\\momot\\AppData\\Local\\Temp\\ipykernel_21112\\3380818930.py:13: FutureWarning: The frame.append method is deprecated and will be removed from pandas in a future version. Use pandas.concat instead.\n",
      "  df = df.append(XD,ignore_index = True)\n"
     ]
    },
    {
     "name": "stdout",
     "output_type": "stream",
     "text": [
      "<Response [204]>\n",
      "\n",
      "2023-03-25 Skipped\n",
      "<Response [204]>\n",
      "\n",
      "2023-03-26 Skipped\n",
      "<Response [200]>\n",
      "{\n",
      "  \"last_upd_date\": \"2023-04-21T05:11:16\",\n",
      "  \"nav_date\": \"2023-03-27\",\n",
      "  \"net_asset\": 8571399378.72,\n",
      "  \"last_val\": 54.5497,\n",
      "  \"previous_val\": 0.0,\n",
      "  \"amc_info\": [\n",
      "    {\n",
      "      \"unique_id\": \"C0000000239\",\n",
      "      \"sell_price\": 54.5498,\n",
      "      \"buy_price\": 54.5497,\n",
      "      \"sell_swap_price\": 54.5497,\n",
      "      \"buy_swap_price\": 54.5498,\n",
      "      \"remark_th\": \" \",\n",
      "      \"remark_en\": \" \"\n",
      "    }\n",
      "  ]\n",
      "}\n"
     ]
    },
    {
     "name": "stderr",
     "output_type": "stream",
     "text": [
      "C:\\Users\\momot\\AppData\\Local\\Temp\\ipykernel_21112\\3380818930.py:13: FutureWarning: The frame.append method is deprecated and will be removed from pandas in a future version. Use pandas.concat instead.\n",
      "  df = df.append(XD,ignore_index = True)\n"
     ]
    },
    {
     "name": "stdout",
     "output_type": "stream",
     "text": [
      "<Response [200]>\n",
      "{\r\n",
      "  \"last_upd_date\": \"2023-04-21T05:11:16\",\r\n",
      "  \"nav_date\": \"2023-03-28\",\r\n",
      "  \"net_asset\": 8651661913.88,\r\n",
      "  \"last_val\": 55.1154,\r\n",
      "  \"previous_val\": 0.0,\r\n",
      "  \"amc_info\": [\r\n",
      "    {\r\n",
      "      \"unique_id\": \"C0000000239\",\r\n",
      "      \"sell_price\": 55.1155,\r\n",
      "      \"buy_price\": 55.1154,\r\n",
      "      \"sell_swap_price\": 55.1154,\r\n",
      "      \"buy_swap_price\": 55.1155,\r\n",
      "      \"remark_th\": \" \",\r\n",
      "      \"remark_en\": \" \"\r\n",
      "    }\r\n",
      "  ]\r\n",
      "}\n"
     ]
    },
    {
     "name": "stderr",
     "output_type": "stream",
     "text": [
      "C:\\Users\\momot\\AppData\\Local\\Temp\\ipykernel_21112\\3380818930.py:13: FutureWarning: The frame.append method is deprecated and will be removed from pandas in a future version. Use pandas.concat instead.\n",
      "  df = df.append(XD,ignore_index = True)\n"
     ]
    },
    {
     "name": "stdout",
     "output_type": "stream",
     "text": [
      "<Response [200]>\n",
      "{\r\n",
      "  \"last_upd_date\": \"2023-04-21T05:11:16\",\r\n",
      "  \"nav_date\": \"2023-03-29\",\r\n",
      "  \"net_asset\": 8667324568.34,\r\n",
      "  \"last_val\": 55.2318,\r\n",
      "  \"previous_val\": 0.0,\r\n",
      "  \"amc_info\": [\r\n",
      "    {\r\n",
      "      \"unique_id\": \"C0000000239\",\r\n",
      "      \"sell_price\": 55.2319,\r\n",
      "      \"buy_price\": 55.2318,\r\n",
      "      \"sell_swap_price\": 55.2318,\r\n",
      "      \"buy_swap_price\": 55.2319,\r\n",
      "      \"remark_th\": \" \",\r\n",
      "      \"remark_en\": \" \"\r\n",
      "    }\r\n",
      "  ]\r\n",
      "}\n"
     ]
    },
    {
     "name": "stderr",
     "output_type": "stream",
     "text": [
      "C:\\Users\\momot\\AppData\\Local\\Temp\\ipykernel_21112\\3380818930.py:13: FutureWarning: The frame.append method is deprecated and will be removed from pandas in a future version. Use pandas.concat instead.\n",
      "  df = df.append(XD,ignore_index = True)\n"
     ]
    },
    {
     "name": "stdout",
     "output_type": "stream",
     "text": [
      "<Response [200]>\n",
      "{\r\n",
      "  \"last_upd_date\": \"2023-04-21T05:11:16\",\r\n",
      "  \"nav_date\": \"2023-03-30\",\r\n",
      "  \"net_asset\": 8605680570.52,\r\n",
      "  \"last_val\": 54.8525,\r\n",
      "  \"previous_val\": 0.0,\r\n",
      "  \"amc_info\": [\r\n",
      "    {\r\n",
      "      \"unique_id\": \"C0000000239\",\r\n",
      "      \"sell_price\": 54.8526,\r\n",
      "      \"buy_price\": 54.8525,\r\n",
      "      \"sell_swap_price\": 54.8525,\r\n",
      "      \"buy_swap_price\": 54.8526,\r\n",
      "      \"remark_th\": \" \",\r\n",
      "      \"remark_en\": \" \"\r\n",
      "    }\r\n",
      "  ]\r\n",
      "}\n"
     ]
    },
    {
     "name": "stderr",
     "output_type": "stream",
     "text": [
      "C:\\Users\\momot\\AppData\\Local\\Temp\\ipykernel_21112\\3380818930.py:13: FutureWarning: The frame.append method is deprecated and will be removed from pandas in a future version. Use pandas.concat instead.\n",
      "  df = df.append(XD,ignore_index = True)\n"
     ]
    },
    {
     "name": "stdout",
     "output_type": "stream",
     "text": [
      "<Response [200]>\n",
      "{\r\n",
      "  \"last_upd_date\": \"2023-04-21T05:11:16\",\r\n",
      "  \"nav_date\": \"2023-03-31\",\r\n",
      "  \"net_asset\": 8604524529.94,\r\n",
      "  \"last_val\": 54.8212,\r\n",
      "  \"previous_val\": 0.0,\r\n",
      "  \"amc_info\": [\r\n",
      "    {\r\n",
      "      \"unique_id\": \"C0000000239\",\r\n",
      "      \"sell_price\": 54.8213,\r\n",
      "      \"buy_price\": 54.8212,\r\n",
      "      \"sell_swap_price\": 54.8212,\r\n",
      "      \"buy_swap_price\": 54.8213,\r\n",
      "      \"remark_th\": \" \",\r\n",
      "      \"remark_en\": \" \"\r\n",
      "    }\r\n",
      "  ]\r\n",
      "}\n"
     ]
    },
    {
     "name": "stderr",
     "output_type": "stream",
     "text": [
      "C:\\Users\\momot\\AppData\\Local\\Temp\\ipykernel_21112\\3380818930.py:13: FutureWarning: The frame.append method is deprecated and will be removed from pandas in a future version. Use pandas.concat instead.\n",
      "  df = df.append(XD,ignore_index = True)\n"
     ]
    },
    {
     "name": "stdout",
     "output_type": "stream",
     "text": [
      "<Response [204]>\n",
      "\n",
      "2023-04-01 Skipped\n",
      "<Response [204]>\n",
      "\n",
      "2023-04-02 Skipped\n",
      "<Response [200]>\n",
      "{\n",
      "  \"last_upd_date\": \"2023-04-21T05:11:16\",\n",
      "  \"nav_date\": \"2023-04-03\",\n",
      "  \"net_asset\": 8621196194.03,\n",
      "  \"last_val\": 54.9333,\n",
      "  \"previous_val\": 0.0,\n",
      "  \"amc_info\": [\n",
      "    {\n",
      "      \"unique_id\": \"C0000000239\",\n",
      "      \"sell_price\": 54.9334,\n",
      "      \"buy_price\": 54.9333,\n",
      "      \"sell_swap_price\": 54.9333,\n",
      "      \"buy_swap_price\": 54.9334,\n",
      "      \"remark_th\": \" \",\n",
      "      \"remark_en\": \" \"\n",
      "    }\n",
      "  ]\n",
      "}\n"
     ]
    },
    {
     "name": "stderr",
     "output_type": "stream",
     "text": [
      "C:\\Users\\momot\\AppData\\Local\\Temp\\ipykernel_21112\\3380818930.py:13: FutureWarning: The frame.append method is deprecated and will be removed from pandas in a future version. Use pandas.concat instead.\n",
      "  df = df.append(XD,ignore_index = True)\n"
     ]
    },
    {
     "name": "stdout",
     "output_type": "stream",
     "text": [
      "<Response [200]>\n",
      "{\r\n",
      "  \"last_upd_date\": \"2023-04-21T05:11:16\",\r\n",
      "  \"nav_date\": \"2023-04-04\",\r\n",
      "  \"net_asset\": 8586660784.23,\r\n",
      "  \"last_val\": 54.7132,\r\n",
      "  \"previous_val\": 0.0,\r\n",
      "  \"amc_info\": [\r\n",
      "    {\r\n",
      "      \"unique_id\": \"C0000000239\",\r\n",
      "      \"sell_price\": 54.7133,\r\n",
      "      \"buy_price\": 54.7132,\r\n",
      "      \"sell_swap_price\": 54.7132,\r\n",
      "      \"buy_swap_price\": 54.7133,\r\n",
      "      \"remark_th\": \" \",\r\n",
      "      \"remark_en\": \" \"\r\n",
      "    }\r\n",
      "  ]\r\n",
      "}\n"
     ]
    },
    {
     "name": "stderr",
     "output_type": "stream",
     "text": [
      "C:\\Users\\momot\\AppData\\Local\\Temp\\ipykernel_21112\\3380818930.py:13: FutureWarning: The frame.append method is deprecated and will be removed from pandas in a future version. Use pandas.concat instead.\n",
      "  df = df.append(XD,ignore_index = True)\n"
     ]
    },
    {
     "name": "stdout",
     "output_type": "stream",
     "text": [
      "<Response [200]>\n",
      "{\r\n",
      "  \"last_upd_date\": \"2023-04-21T05:11:16\",\r\n",
      "  \"nav_date\": \"2023-04-05\",\r\n",
      "  \"net_asset\": 8479255012.44,\r\n",
      "  \"last_val\": 54.063,\r\n",
      "  \"previous_val\": 0.0,\r\n",
      "  \"amc_info\": [\r\n",
      "    {\r\n",
      "      \"unique_id\": \"C0000000239\",\r\n",
      "      \"sell_price\": 54.0631,\r\n",
      "      \"buy_price\": 54.063,\r\n",
      "      \"sell_swap_price\": 54.063,\r\n",
      "      \"buy_swap_price\": 54.0631,\r\n",
      "      \"remark_th\": \" \",\r\n",
      "      \"remark_en\": \" \"\r\n",
      "    }\r\n",
      "  ]\r\n",
      "}\n"
     ]
    },
    {
     "name": "stderr",
     "output_type": "stream",
     "text": [
      "C:\\Users\\momot\\AppData\\Local\\Temp\\ipykernel_21112\\3380818930.py:13: FutureWarning: The frame.append method is deprecated and will be removed from pandas in a future version. Use pandas.concat instead.\n",
      "  df = df.append(XD,ignore_index = True)\n"
     ]
    },
    {
     "name": "stdout",
     "output_type": "stream",
     "text": [
      "<Response [204]>\n",
      "\n",
      "2023-04-06 Skipped\n",
      "<Response [200]>\n",
      "{\n",
      "  \"last_upd_date\": \"2023-04-21T05:11:16\",\n",
      "  \"nav_date\": \"2023-04-07\",\n",
      "  \"net_asset\": 8491487323.11,\n",
      "  \"last_val\": 54.1995,\n",
      "  \"previous_val\": 0.0,\n",
      "  \"amc_info\": [\n",
      "    {\n",
      "      \"unique_id\": \"C0000000239\",\n",
      "      \"sell_price\": 54.1996,\n",
      "      \"buy_price\": 54.1995,\n",
      "      \"sell_swap_price\": 54.1995,\n",
      "      \"buy_swap_price\": 54.1996,\n",
      "      \"remark_th\": \" \",\n",
      "      \"remark_en\": \" \"\n",
      "    }\n",
      "  ]\n",
      "}\n"
     ]
    },
    {
     "name": "stderr",
     "output_type": "stream",
     "text": [
      "C:\\Users\\momot\\AppData\\Local\\Temp\\ipykernel_21112\\3380818930.py:13: FutureWarning: The frame.append method is deprecated and will be removed from pandas in a future version. Use pandas.concat instead.\n",
      "  df = df.append(XD,ignore_index = True)\n"
     ]
    },
    {
     "name": "stdout",
     "output_type": "stream",
     "text": [
      "<Response [204]>\n",
      "\n",
      "2023-04-08 Skipped\n",
      "<Response [204]>\n",
      "\n",
      "2023-04-09 Skipped\n",
      "<Response [200]>\n",
      "{\n",
      "  \"last_upd_date\": \"2023-04-21T05:11:16\",\n",
      "  \"nav_date\": \"2023-04-10\",\n",
      "  \"net_asset\": 8580939058.26,\n",
      "  \"last_val\": 54.7635,\n",
      "  \"previous_val\": 0.0,\n",
      "  \"amc_info\": [\n",
      "    {\n",
      "      \"unique_id\": \"C0000000239\",\n",
      "      \"sell_price\": 54.7636,\n",
      "      \"buy_price\": 54.7635,\n",
      "      \"sell_swap_price\": 54.7635,\n",
      "      \"buy_swap_price\": 54.7636,\n",
      "      \"remark_th\": \" \",\n",
      "      \"remark_en\": \" \"\n",
      "    }\n",
      "  ]\n",
      "}\n"
     ]
    },
    {
     "name": "stderr",
     "output_type": "stream",
     "text": [
      "C:\\Users\\momot\\AppData\\Local\\Temp\\ipykernel_21112\\3380818930.py:13: FutureWarning: The frame.append method is deprecated and will be removed from pandas in a future version. Use pandas.concat instead.\n",
      "  df = df.append(XD,ignore_index = True)\n"
     ]
    },
    {
     "name": "stdout",
     "output_type": "stream",
     "text": [
      "<Response [200]>\n",
      "{\r\n",
      "  \"last_upd_date\": \"2023-04-21T05:11:16\",\r\n",
      "  \"nav_date\": \"2023-04-11\",\r\n",
      "  \"net_asset\": 8612019715.63,\r\n",
      "  \"last_val\": 54.9799,\r\n",
      "  \"previous_val\": 0.0,\r\n",
      "  \"amc_info\": [\r\n",
      "    {\r\n",
      "      \"unique_id\": \"C0000000239\",\r\n",
      "      \"sell_price\": 54.98,\r\n",
      "      \"buy_price\": 54.9799,\r\n",
      "      \"sell_swap_price\": 54.9799,\r\n",
      "      \"buy_swap_price\": 54.98,\r\n",
      "      \"remark_th\": \" \",\r\n",
      "      \"remark_en\": \" \"\r\n",
      "    }\r\n",
      "  ]\r\n",
      "}\n"
     ]
    },
    {
     "name": "stderr",
     "output_type": "stream",
     "text": [
      "C:\\Users\\momot\\AppData\\Local\\Temp\\ipykernel_21112\\3380818930.py:13: FutureWarning: The frame.append method is deprecated and will be removed from pandas in a future version. Use pandas.concat instead.\n",
      "  df = df.append(XD,ignore_index = True)\n"
     ]
    },
    {
     "name": "stdout",
     "output_type": "stream",
     "text": [
      "<Response [200]>\n",
      "{\r\n",
      "  \"last_upd_date\": \"2023-04-21T05:11:16\",\r\n",
      "  \"nav_date\": \"2023-04-12\",\r\n",
      "  \"net_asset\": 8571139963.59,\r\n",
      "  \"last_val\": 54.7548,\r\n",
      "  \"previous_val\": 0.0,\r\n",
      "  \"amc_info\": [\r\n",
      "    {\r\n",
      "      \"unique_id\": \"C0000000239\",\r\n",
      "      \"sell_price\": 54.7549,\r\n",
      "      \"buy_price\": 54.7548,\r\n",
      "      \"sell_swap_price\": 54.7548,\r\n",
      "      \"buy_swap_price\": 54.7549,\r\n",
      "      \"remark_th\": \" \",\r\n",
      "      \"remark_en\": \" \"\r\n",
      "    }\r\n",
      "  ]\r\n",
      "}\n"
     ]
    },
    {
     "name": "stderr",
     "output_type": "stream",
     "text": [
      "C:\\Users\\momot\\AppData\\Local\\Temp\\ipykernel_21112\\3380818930.py:13: FutureWarning: The frame.append method is deprecated and will be removed from pandas in a future version. Use pandas.concat instead.\n",
      "  df = df.append(XD,ignore_index = True)\n"
     ]
    },
    {
     "name": "stdout",
     "output_type": "stream",
     "text": [
      "<Response [204]>\n",
      "\n",
      "2023-04-13 Skipped\n",
      "<Response [204]>\n",
      "\n",
      "2023-04-14 Skipped\n",
      "<Response [204]>\n",
      "\n",
      "2023-04-15 Skipped\n",
      "<Response [204]>\n",
      "\n",
      "2023-04-16 Skipped\n",
      "<Response [200]>\n",
      "{\n",
      "  \"last_upd_date\": \"2023-04-21T05:11:16\",\n",
      "  \"nav_date\": \"2023-04-17\",\n",
      "  \"net_asset\": 8624871961.79,\n",
      "  \"last_val\": 55.0928,\n",
      "  \"previous_val\": 0.0,\n",
      "  \"amc_info\": [\n",
      "    {\n",
      "      \"unique_id\": \"C0000000239\",\n",
      "      \"sell_price\": 55.0929,\n",
      "      \"buy_price\": 55.0928,\n",
      "      \"sell_swap_price\": 55.0928,\n",
      "      \"buy_swap_price\": 55.0929,\n",
      "      \"remark_th\": \" \",\n",
      "      \"remark_en\": \" \"\n",
      "    }\n",
      "  ]\n",
      "}\n"
     ]
    },
    {
     "name": "stderr",
     "output_type": "stream",
     "text": [
      "C:\\Users\\momot\\AppData\\Local\\Temp\\ipykernel_21112\\3380818930.py:13: FutureWarning: The frame.append method is deprecated and will be removed from pandas in a future version. Use pandas.concat instead.\n",
      "  df = df.append(XD,ignore_index = True)\n"
     ]
    },
    {
     "name": "stdout",
     "output_type": "stream",
     "text": [
      "<Response [200]>\n",
      "{\r\n",
      "  \"last_upd_date\": \"2023-04-21T05:11:16\",\r\n",
      "  \"nav_date\": \"2023-04-18\",\r\n",
      "  \"net_asset\": 8586273666.76,\r\n",
      "  \"last_val\": 54.8383,\r\n",
      "  \"previous_val\": 0.0,\r\n",
      "  \"amc_info\": [\r\n",
      "    {\r\n",
      "      \"unique_id\": \"C0000000239\",\r\n",
      "      \"sell_price\": 54.8384,\r\n",
      "      \"buy_price\": 54.8383,\r\n",
      "      \"sell_swap_price\": 54.8383,\r\n",
      "      \"buy_swap_price\": 54.8384,\r\n",
      "      \"remark_th\": \" \",\r\n",
      "      \"remark_en\": \" \"\r\n",
      "    }\r\n",
      "  ]\r\n",
      "}\n"
     ]
    },
    {
     "name": "stderr",
     "output_type": "stream",
     "text": [
      "C:\\Users\\momot\\AppData\\Local\\Temp\\ipykernel_21112\\3380818930.py:13: FutureWarning: The frame.append method is deprecated and will be removed from pandas in a future version. Use pandas.concat instead.\n",
      "  df = df.append(XD,ignore_index = True)\n"
     ]
    },
    {
     "name": "stdout",
     "output_type": "stream",
     "text": [
      "<Response [200]>\n",
      "{\r\n",
      "  \"last_upd_date\": \"2023-04-21T05:11:16\",\r\n",
      "  \"nav_date\": \"2023-04-19\",\r\n",
      "  \"net_asset\": 8506223526.18,\r\n",
      "  \"last_val\": 54.3272,\r\n",
      "  \"previous_val\": 0.0,\r\n",
      "  \"amc_info\": [\r\n",
      "    {\r\n",
      "      \"unique_id\": \"C0000000239\",\r\n",
      "      \"sell_price\": 54.3273,\r\n",
      "      \"buy_price\": 54.3272,\r\n",
      "      \"sell_swap_price\": 54.3272,\r\n",
      "      \"buy_swap_price\": 54.3273,\r\n",
      "      \"remark_th\": \" \",\r\n",
      "      \"remark_en\": \" \"\r\n",
      "    }\r\n",
      "  ]\r\n",
      "}\n"
     ]
    },
    {
     "name": "stderr",
     "output_type": "stream",
     "text": [
      "C:\\Users\\momot\\AppData\\Local\\Temp\\ipykernel_21112\\3380818930.py:13: FutureWarning: The frame.append method is deprecated and will be removed from pandas in a future version. Use pandas.concat instead.\n",
      "  df = df.append(XD,ignore_index = True)\n"
     ]
    },
    {
     "name": "stdout",
     "output_type": "stream",
     "text": [
      "<Response [204]>\n",
      "\n",
      "2023-04-20 Skipped\n"
     ]
    }
   ],
   "source": [
    "import time\n",
    "start_date = date(2023, 2, 27)\n",
    "end_date = date(2023, 4, 21)\n",
    "for single_date in daterange(start_date, end_date):\n",
    "    response = requests.get(f'https://api.sec.or.th/FundDailyInfo/{proj_id}/dailynav/{single_date.strftime(\"%Y-%m-%d\")}', headers = headers)\n",
    "    print(response)\n",
    "    print(response.text)\n",
    "    if response.status_code == 204: # กัน respone มาว่า no content\n",
    "        print(single_date.strftime(\"%Y-%m-%d\")+\" Skipped\")\n",
    "        continue\n",
    "    res = response.content\n",
    "    XD = json.loads(res)\n",
    "    df = df.append(XD,ignore_index = True)\n",
    "    time.sleep(1)"
   ]
  },
  {
   "cell_type": "code",
   "execution_count": 51,
   "id": "5bd3cd60",
   "metadata": {},
   "outputs": [],
   "source": [
    "obj = '''{\n",
    "  \"last_upd_date\": \"2023-04-21T05:11:16\",\n",
    "  \"nav_date\": \"2023-02-27\",\n",
    "  \"net_asset\": 8572077265.84,\n",
    "  \"last_val\": 55.3676,\n",
    "  \"previous_val\": 0.0,\n",
    "  \"amc_info\": [\n",
    "    {\n",
    "      \"unique_id\": \"C0000000239\",\n",
    "      \"sell_price\": 55.3677,\n",
    "      \"buy_price\": 55.3676,\n",
    "      \"sell_swap_price\": 55.3676,\n",
    "      \"buy_swap_price\": 55.3677,\n",
    "      \"remark_th\": \" \",\n",
    "      \"remark_en\": \" \"\n",
    "    }\n",
    "  ]\n",
    "}'''"
   ]
  },
  {
   "cell_type": "code",
   "execution_count": 52,
   "id": "d4e26448",
   "metadata": {},
   "outputs": [
    {
     "name": "stdout",
     "output_type": "stream",
     "text": [
      "{\n",
      "  \"last_upd_date\": \"2023-04-21T05:11:16\",\n",
      "  \"nav_date\": \"2023-02-27\",\n",
      "  \"net_asset\": 8572077265.84,\n",
      "  \"last_val\": 55.3676,\n",
      "  \"previous_val\": 0.0,\n",
      "  \"amc_info\": [\n",
      "    {\n",
      "      \"unique_id\": \"C0000000239\",\n",
      "      \"sell_price\": 55.3677,\n",
      "      \"buy_price\": 55.3676,\n",
      "      \"sell_swap_price\": 55.3676,\n",
      "      \"buy_swap_price\": 55.3677,\n",
      "      \"remark_th\": \" \",\n",
      "      \"remark_en\": \" \"\n",
      "    }\n",
      "  ]\n",
      "}\n"
     ]
    }
   ],
   "source": [
    "print(obj)"
   ]
  },
  {
   "cell_type": "code",
   "execution_count": 54,
   "id": "6bfad778",
   "metadata": {},
   "outputs": [
    {
     "data": {
      "text/plain": [
       "str"
      ]
     },
     "execution_count": 54,
     "metadata": {},
     "output_type": "execute_result"
    }
   ],
   "source": [
    "type(obj)"
   ]
  },
  {
   "cell_type": "code",
   "execution_count": 55,
   "id": "b5c61df2",
   "metadata": {},
   "outputs": [],
   "source": [
    "def encode_sample(sample : str):\n",
    "    for encoding in ('ascii', 'utf8', 'utf16'):\n",
    "        filename = f'{encoding}.json'\n",
    "        encoded_sample = sample.encode(encoding=encoding, errors='replace')\n",
    "        with FileIO(filename, mode='wb') as f:\n",
    "            f.write(encoded_sample)\n",
    "            assert len(encoded_sample) == f.tell()\n",
    "            print(f'{encoding}: {f.tell()} bytes')"
   ]
  },
  {
   "cell_type": "code",
   "execution_count": 56,
   "id": "1ca9b426",
   "metadata": {},
   "outputs": [
    {
     "ename": "NameError",
     "evalue": "name 'FileIO' is not defined",
     "output_type": "error",
     "traceback": [
      "\u001b[1;31m---------------------------------------------------------------------------\u001b[0m",
      "\u001b[1;31mNameError\u001b[0m                                 Traceback (most recent call last)",
      "Input \u001b[1;32mIn [56]\u001b[0m, in \u001b[0;36m<cell line: 1>\u001b[1;34m()\u001b[0m\n\u001b[1;32m----> 1\u001b[0m \u001b[43mencode_sample\u001b[49m\u001b[43m(\u001b[49m\u001b[43mobj\u001b[49m\u001b[43m)\u001b[49m\n",
      "Input \u001b[1;32mIn [55]\u001b[0m, in \u001b[0;36mencode_sample\u001b[1;34m(sample)\u001b[0m\n\u001b[0;32m      3\u001b[0m filename \u001b[38;5;241m=\u001b[39m \u001b[38;5;124mf\u001b[39m\u001b[38;5;124m'\u001b[39m\u001b[38;5;132;01m{\u001b[39;00mencoding\u001b[38;5;132;01m}\u001b[39;00m\u001b[38;5;124m.json\u001b[39m\u001b[38;5;124m'\u001b[39m\n\u001b[0;32m      4\u001b[0m encoded_sample \u001b[38;5;241m=\u001b[39m sample\u001b[38;5;241m.\u001b[39mencode(encoding\u001b[38;5;241m=\u001b[39mencoding, errors\u001b[38;5;241m=\u001b[39m\u001b[38;5;124m'\u001b[39m\u001b[38;5;124mreplace\u001b[39m\u001b[38;5;124m'\u001b[39m)\n\u001b[1;32m----> 5\u001b[0m \u001b[38;5;28;01mwith\u001b[39;00m \u001b[43mFileIO\u001b[49m(filename, mode\u001b[38;5;241m=\u001b[39m\u001b[38;5;124m'\u001b[39m\u001b[38;5;124mwb\u001b[39m\u001b[38;5;124m'\u001b[39m) \u001b[38;5;28;01mas\u001b[39;00m f:\n\u001b[0;32m      6\u001b[0m     f\u001b[38;5;241m.\u001b[39mwrite(encoded_sample)\n\u001b[0;32m      7\u001b[0m     \u001b[38;5;28;01massert\u001b[39;00m \u001b[38;5;28mlen\u001b[39m(encoded_sample) \u001b[38;5;241m==\u001b[39m f\u001b[38;5;241m.\u001b[39mtell()\n",
      "\u001b[1;31mNameError\u001b[0m: name 'FileIO' is not defined"
     ]
    }
   ],
   "source": [
    "encode_sample(obj)"
   ]
  },
  {
   "cell_type": "code",
   "execution_count": 40,
   "id": "41a869b6",
   "metadata": {},
   "outputs": [],
   "source": [
    "#https://github.com/PiiTan/SEC-OpenAPI-Python-Sample/blob/master/AllRiskSpectrum.py"
   ]
  },
  {
   "cell_type": "code",
   "execution_count": 41,
   "id": "5cda745d",
   "metadata": {},
   "outputs": [
    {
     "name": "stdout",
     "output_type": "stream",
     "text": [
      "          last_upd_date    nav_date     net_asset  last_val  previous_val  \\\n",
      "0   2023-04-21T05:11:16  2020-12-16  7.249426e+09   49.7713           0.0   \n",
      "1   2023-04-21T05:11:16  2023-02-27  8.572077e+09   55.3676           0.0   \n",
      "2   2023-04-21T05:11:16  2023-02-28  8.547069e+09   55.1807           0.0   \n",
      "3   2023-04-21T05:11:16  2023-03-01  8.541922e+09   55.0924           0.0   \n",
      "4   2023-04-21T05:11:16  2023-03-02  8.499624e+09   54.8038           0.0   \n",
      "5   2023-04-21T05:11:16  2023-03-03  8.468115e+09   54.6268           0.0   \n",
      "6   2023-04-21T05:11:16  2023-03-07  8.526048e+09   54.9300           0.0   \n",
      "7   2023-04-21T05:11:16  2023-03-08  8.508212e+09   54.7920           0.0   \n",
      "8   2023-04-21T05:11:16  2023-03-09  8.532229e+09   54.8946           0.0   \n",
      "9   2023-04-21T05:11:16  2023-03-10  8.462421e+09   54.4395           0.0   \n",
      "10  2023-04-21T05:11:16  2023-03-13  8.348046e+09   53.6425           0.0   \n",
      "11  2023-04-21T05:11:16  2023-03-14  8.105097e+09   52.0732           0.0   \n",
      "12  2023-04-21T05:11:16  2023-03-15  8.353707e+09   53.4719           0.0   \n",
      "13  2023-04-21T05:11:16  2023-03-16  8.307649e+09   53.0975           0.0   \n",
      "14  2023-04-21T05:11:16  2023-03-17  8.394309e+09   53.4770           0.0   \n",
      "15  2023-04-21T05:11:16  2023-03-20  8.334235e+09   53.1014           0.0   \n",
      "16  2023-04-21T05:11:16  2023-03-21  8.471742e+09   53.9016           0.0   \n",
      "17  2023-04-21T05:11:16  2023-03-22  8.529814e+09   54.2228           0.0   \n",
      "18  2023-04-21T05:11:16  2023-03-23  8.584345e+09   54.5603           0.0   \n",
      "19  2023-04-21T05:11:16  2023-03-24  8.575095e+09   54.5200           0.0   \n",
      "20  2023-04-21T05:11:16  2023-03-27  8.571399e+09   54.5497           0.0   \n",
      "21  2023-04-21T05:11:16  2023-03-28  8.651662e+09   55.1154           0.0   \n",
      "22  2023-04-21T05:11:16  2023-03-29  8.667325e+09   55.2318           0.0   \n",
      "23  2023-04-21T05:11:16  2023-03-30  8.605681e+09   54.8525           0.0   \n",
      "24  2023-04-21T05:11:16  2023-03-31  8.604525e+09   54.8212           0.0   \n",
      "25  2023-04-21T05:11:16  2023-04-03  8.621196e+09   54.9333           0.0   \n",
      "26  2023-04-21T05:11:16  2023-04-04  8.586661e+09   54.7132           0.0   \n",
      "27  2023-04-21T05:11:16  2023-04-05  8.479255e+09   54.0630           0.0   \n",
      "28  2023-04-21T05:11:16  2023-04-07  8.491487e+09   54.1995           0.0   \n",
      "29  2023-04-21T05:11:16  2023-04-10  8.580939e+09   54.7635           0.0   \n",
      "30  2023-04-21T05:11:16  2023-04-11  8.612020e+09   54.9799           0.0   \n",
      "31  2023-04-21T05:11:16  2023-04-12  8.571140e+09   54.7548           0.0   \n",
      "32  2023-04-21T05:11:16  2023-04-17  8.624872e+09   55.0928           0.0   \n",
      "33  2023-04-21T05:11:16  2023-04-18  8.586274e+09   54.8383           0.0   \n",
      "34  2023-04-21T05:11:16  2023-04-19  8.506224e+09   54.3272           0.0   \n",
      "\n",
      "                                             amc_info  \n",
      "0   {'unique_id': 'C0000000239', 'sell_price': 49....  \n",
      "1   [{'unique_id': 'C0000000239', 'sell_price': 55...  \n",
      "2   [{'unique_id': 'C0000000239', 'sell_price': 55...  \n",
      "3   [{'unique_id': 'C0000000239', 'sell_price': 55...  \n",
      "4   [{'unique_id': 'C0000000239', 'sell_price': 54...  \n",
      "5   [{'unique_id': 'C0000000239', 'sell_price': 54...  \n",
      "6   [{'unique_id': 'C0000000239', 'sell_price': 54...  \n",
      "7   [{'unique_id': 'C0000000239', 'sell_price': 54...  \n",
      "8   [{'unique_id': 'C0000000239', 'sell_price': 54...  \n",
      "9   [{'unique_id': 'C0000000239', 'sell_price': 54...  \n",
      "10  [{'unique_id': 'C0000000239', 'sell_price': 53...  \n",
      "11  [{'unique_id': 'C0000000239', 'sell_price': 52...  \n",
      "12  [{'unique_id': 'C0000000239', 'sell_price': 53...  \n",
      "13  [{'unique_id': 'C0000000239', 'sell_price': 53...  \n",
      "14  [{'unique_id': 'C0000000239', 'sell_price': 53...  \n",
      "15  [{'unique_id': 'C0000000239', 'sell_price': 53...  \n",
      "16  [{'unique_id': 'C0000000239', 'sell_price': 53...  \n",
      "17  [{'unique_id': 'C0000000239', 'sell_price': 54...  \n",
      "18  [{'unique_id': 'C0000000239', 'sell_price': 54...  \n",
      "19  [{'unique_id': 'C0000000239', 'sell_price': 54...  \n",
      "20  [{'unique_id': 'C0000000239', 'sell_price': 54...  \n",
      "21  [{'unique_id': 'C0000000239', 'sell_price': 55...  \n",
      "22  [{'unique_id': 'C0000000239', 'sell_price': 55...  \n",
      "23  [{'unique_id': 'C0000000239', 'sell_price': 54...  \n",
      "24  [{'unique_id': 'C0000000239', 'sell_price': 54...  \n",
      "25  [{'unique_id': 'C0000000239', 'sell_price': 54...  \n",
      "26  [{'unique_id': 'C0000000239', 'sell_price': 54...  \n",
      "27  [{'unique_id': 'C0000000239', 'sell_price': 54...  \n",
      "28  [{'unique_id': 'C0000000239', 'sell_price': 54...  \n",
      "29  [{'unique_id': 'C0000000239', 'sell_price': 54...  \n",
      "30  [{'unique_id': 'C0000000239', 'sell_price': 54...  \n",
      "31  [{'unique_id': 'C0000000239', 'sell_price': 54...  \n",
      "32  [{'unique_id': 'C0000000239', 'sell_price': 55...  \n",
      "33  [{'unique_id': 'C0000000239', 'sell_price': 54...  \n",
      "34  [{'unique_id': 'C0000000239', 'sell_price': 54...  \n"
     ]
    }
   ],
   "source": [
    "print(df)"
   ]
  },
  {
   "cell_type": "code",
   "execution_count": 42,
   "id": "e15f47d5",
   "metadata": {},
   "outputs": [
    {
     "data": {
      "text/html": [
       "<div>\n",
       "<style scoped>\n",
       "    .dataframe tbody tr th:only-of-type {\n",
       "        vertical-align: middle;\n",
       "    }\n",
       "\n",
       "    .dataframe tbody tr th {\n",
       "        vertical-align: top;\n",
       "    }\n",
       "\n",
       "    .dataframe thead th {\n",
       "        text-align: right;\n",
       "    }\n",
       "</style>\n",
       "<table border=\"1\" class=\"dataframe\">\n",
       "  <thead>\n",
       "    <tr style=\"text-align: right;\">\n",
       "      <th></th>\n",
       "      <th>last_upd_date</th>\n",
       "      <th>nav_date</th>\n",
       "      <th>net_asset</th>\n",
       "      <th>last_val</th>\n",
       "      <th>previous_val</th>\n",
       "      <th>amc_info</th>\n",
       "    </tr>\n",
       "  </thead>\n",
       "  <tbody>\n",
       "    <tr>\n",
       "      <th>0</th>\n",
       "      <td>2023-04-21T05:11:16</td>\n",
       "      <td>2020-12-16</td>\n",
       "      <td>7.249426e+09</td>\n",
       "      <td>49.7713</td>\n",
       "      <td>0.0</td>\n",
       "      <td>{'unique_id': 'C0000000239', 'sell_price': 49....</td>\n",
       "    </tr>\n",
       "    <tr>\n",
       "      <th>1</th>\n",
       "      <td>2023-04-21T05:11:16</td>\n",
       "      <td>2023-02-27</td>\n",
       "      <td>8.572077e+09</td>\n",
       "      <td>55.3676</td>\n",
       "      <td>0.0</td>\n",
       "      <td>[{'unique_id': 'C0000000239', 'sell_price': 55...</td>\n",
       "    </tr>\n",
       "    <tr>\n",
       "      <th>2</th>\n",
       "      <td>2023-04-21T05:11:16</td>\n",
       "      <td>2023-02-28</td>\n",
       "      <td>8.547069e+09</td>\n",
       "      <td>55.1807</td>\n",
       "      <td>0.0</td>\n",
       "      <td>[{'unique_id': 'C0000000239', 'sell_price': 55...</td>\n",
       "    </tr>\n",
       "    <tr>\n",
       "      <th>3</th>\n",
       "      <td>2023-04-21T05:11:16</td>\n",
       "      <td>2023-03-01</td>\n",
       "      <td>8.541922e+09</td>\n",
       "      <td>55.0924</td>\n",
       "      <td>0.0</td>\n",
       "      <td>[{'unique_id': 'C0000000239', 'sell_price': 55...</td>\n",
       "    </tr>\n",
       "    <tr>\n",
       "      <th>4</th>\n",
       "      <td>2023-04-21T05:11:16</td>\n",
       "      <td>2023-03-02</td>\n",
       "      <td>8.499624e+09</td>\n",
       "      <td>54.8038</td>\n",
       "      <td>0.0</td>\n",
       "      <td>[{'unique_id': 'C0000000239', 'sell_price': 54...</td>\n",
       "    </tr>\n",
       "    <tr>\n",
       "      <th>5</th>\n",
       "      <td>2023-04-21T05:11:16</td>\n",
       "      <td>2023-03-03</td>\n",
       "      <td>8.468115e+09</td>\n",
       "      <td>54.6268</td>\n",
       "      <td>0.0</td>\n",
       "      <td>[{'unique_id': 'C0000000239', 'sell_price': 54...</td>\n",
       "    </tr>\n",
       "    <tr>\n",
       "      <th>6</th>\n",
       "      <td>2023-04-21T05:11:16</td>\n",
       "      <td>2023-03-07</td>\n",
       "      <td>8.526048e+09</td>\n",
       "      <td>54.9300</td>\n",
       "      <td>0.0</td>\n",
       "      <td>[{'unique_id': 'C0000000239', 'sell_price': 54...</td>\n",
       "    </tr>\n",
       "    <tr>\n",
       "      <th>7</th>\n",
       "      <td>2023-04-21T05:11:16</td>\n",
       "      <td>2023-03-08</td>\n",
       "      <td>8.508212e+09</td>\n",
       "      <td>54.7920</td>\n",
       "      <td>0.0</td>\n",
       "      <td>[{'unique_id': 'C0000000239', 'sell_price': 54...</td>\n",
       "    </tr>\n",
       "    <tr>\n",
       "      <th>8</th>\n",
       "      <td>2023-04-21T05:11:16</td>\n",
       "      <td>2023-03-09</td>\n",
       "      <td>8.532229e+09</td>\n",
       "      <td>54.8946</td>\n",
       "      <td>0.0</td>\n",
       "      <td>[{'unique_id': 'C0000000239', 'sell_price': 54...</td>\n",
       "    </tr>\n",
       "    <tr>\n",
       "      <th>9</th>\n",
       "      <td>2023-04-21T05:11:16</td>\n",
       "      <td>2023-03-10</td>\n",
       "      <td>8.462421e+09</td>\n",
       "      <td>54.4395</td>\n",
       "      <td>0.0</td>\n",
       "      <td>[{'unique_id': 'C0000000239', 'sell_price': 54...</td>\n",
       "    </tr>\n",
       "    <tr>\n",
       "      <th>10</th>\n",
       "      <td>2023-04-21T05:11:16</td>\n",
       "      <td>2023-03-13</td>\n",
       "      <td>8.348046e+09</td>\n",
       "      <td>53.6425</td>\n",
       "      <td>0.0</td>\n",
       "      <td>[{'unique_id': 'C0000000239', 'sell_price': 53...</td>\n",
       "    </tr>\n",
       "    <tr>\n",
       "      <th>11</th>\n",
       "      <td>2023-04-21T05:11:16</td>\n",
       "      <td>2023-03-14</td>\n",
       "      <td>8.105097e+09</td>\n",
       "      <td>52.0732</td>\n",
       "      <td>0.0</td>\n",
       "      <td>[{'unique_id': 'C0000000239', 'sell_price': 52...</td>\n",
       "    </tr>\n",
       "    <tr>\n",
       "      <th>12</th>\n",
       "      <td>2023-04-21T05:11:16</td>\n",
       "      <td>2023-03-15</td>\n",
       "      <td>8.353707e+09</td>\n",
       "      <td>53.4719</td>\n",
       "      <td>0.0</td>\n",
       "      <td>[{'unique_id': 'C0000000239', 'sell_price': 53...</td>\n",
       "    </tr>\n",
       "    <tr>\n",
       "      <th>13</th>\n",
       "      <td>2023-04-21T05:11:16</td>\n",
       "      <td>2023-03-16</td>\n",
       "      <td>8.307649e+09</td>\n",
       "      <td>53.0975</td>\n",
       "      <td>0.0</td>\n",
       "      <td>[{'unique_id': 'C0000000239', 'sell_price': 53...</td>\n",
       "    </tr>\n",
       "    <tr>\n",
       "      <th>14</th>\n",
       "      <td>2023-04-21T05:11:16</td>\n",
       "      <td>2023-03-17</td>\n",
       "      <td>8.394309e+09</td>\n",
       "      <td>53.4770</td>\n",
       "      <td>0.0</td>\n",
       "      <td>[{'unique_id': 'C0000000239', 'sell_price': 53...</td>\n",
       "    </tr>\n",
       "    <tr>\n",
       "      <th>15</th>\n",
       "      <td>2023-04-21T05:11:16</td>\n",
       "      <td>2023-03-20</td>\n",
       "      <td>8.334235e+09</td>\n",
       "      <td>53.1014</td>\n",
       "      <td>0.0</td>\n",
       "      <td>[{'unique_id': 'C0000000239', 'sell_price': 53...</td>\n",
       "    </tr>\n",
       "    <tr>\n",
       "      <th>16</th>\n",
       "      <td>2023-04-21T05:11:16</td>\n",
       "      <td>2023-03-21</td>\n",
       "      <td>8.471742e+09</td>\n",
       "      <td>53.9016</td>\n",
       "      <td>0.0</td>\n",
       "      <td>[{'unique_id': 'C0000000239', 'sell_price': 53...</td>\n",
       "    </tr>\n",
       "    <tr>\n",
       "      <th>17</th>\n",
       "      <td>2023-04-21T05:11:16</td>\n",
       "      <td>2023-03-22</td>\n",
       "      <td>8.529814e+09</td>\n",
       "      <td>54.2228</td>\n",
       "      <td>0.0</td>\n",
       "      <td>[{'unique_id': 'C0000000239', 'sell_price': 54...</td>\n",
       "    </tr>\n",
       "    <tr>\n",
       "      <th>18</th>\n",
       "      <td>2023-04-21T05:11:16</td>\n",
       "      <td>2023-03-23</td>\n",
       "      <td>8.584345e+09</td>\n",
       "      <td>54.5603</td>\n",
       "      <td>0.0</td>\n",
       "      <td>[{'unique_id': 'C0000000239', 'sell_price': 54...</td>\n",
       "    </tr>\n",
       "    <tr>\n",
       "      <th>19</th>\n",
       "      <td>2023-04-21T05:11:16</td>\n",
       "      <td>2023-03-24</td>\n",
       "      <td>8.575095e+09</td>\n",
       "      <td>54.5200</td>\n",
       "      <td>0.0</td>\n",
       "      <td>[{'unique_id': 'C0000000239', 'sell_price': 54...</td>\n",
       "    </tr>\n",
       "    <tr>\n",
       "      <th>20</th>\n",
       "      <td>2023-04-21T05:11:16</td>\n",
       "      <td>2023-03-27</td>\n",
       "      <td>8.571399e+09</td>\n",
       "      <td>54.5497</td>\n",
       "      <td>0.0</td>\n",
       "      <td>[{'unique_id': 'C0000000239', 'sell_price': 54...</td>\n",
       "    </tr>\n",
       "    <tr>\n",
       "      <th>21</th>\n",
       "      <td>2023-04-21T05:11:16</td>\n",
       "      <td>2023-03-28</td>\n",
       "      <td>8.651662e+09</td>\n",
       "      <td>55.1154</td>\n",
       "      <td>0.0</td>\n",
       "      <td>[{'unique_id': 'C0000000239', 'sell_price': 55...</td>\n",
       "    </tr>\n",
       "    <tr>\n",
       "      <th>22</th>\n",
       "      <td>2023-04-21T05:11:16</td>\n",
       "      <td>2023-03-29</td>\n",
       "      <td>8.667325e+09</td>\n",
       "      <td>55.2318</td>\n",
       "      <td>0.0</td>\n",
       "      <td>[{'unique_id': 'C0000000239', 'sell_price': 55...</td>\n",
       "    </tr>\n",
       "    <tr>\n",
       "      <th>23</th>\n",
       "      <td>2023-04-21T05:11:16</td>\n",
       "      <td>2023-03-30</td>\n",
       "      <td>8.605681e+09</td>\n",
       "      <td>54.8525</td>\n",
       "      <td>0.0</td>\n",
       "      <td>[{'unique_id': 'C0000000239', 'sell_price': 54...</td>\n",
       "    </tr>\n",
       "    <tr>\n",
       "      <th>24</th>\n",
       "      <td>2023-04-21T05:11:16</td>\n",
       "      <td>2023-03-31</td>\n",
       "      <td>8.604525e+09</td>\n",
       "      <td>54.8212</td>\n",
       "      <td>0.0</td>\n",
       "      <td>[{'unique_id': 'C0000000239', 'sell_price': 54...</td>\n",
       "    </tr>\n",
       "    <tr>\n",
       "      <th>25</th>\n",
       "      <td>2023-04-21T05:11:16</td>\n",
       "      <td>2023-04-03</td>\n",
       "      <td>8.621196e+09</td>\n",
       "      <td>54.9333</td>\n",
       "      <td>0.0</td>\n",
       "      <td>[{'unique_id': 'C0000000239', 'sell_price': 54...</td>\n",
       "    </tr>\n",
       "    <tr>\n",
       "      <th>26</th>\n",
       "      <td>2023-04-21T05:11:16</td>\n",
       "      <td>2023-04-04</td>\n",
       "      <td>8.586661e+09</td>\n",
       "      <td>54.7132</td>\n",
       "      <td>0.0</td>\n",
       "      <td>[{'unique_id': 'C0000000239', 'sell_price': 54...</td>\n",
       "    </tr>\n",
       "    <tr>\n",
       "      <th>27</th>\n",
       "      <td>2023-04-21T05:11:16</td>\n",
       "      <td>2023-04-05</td>\n",
       "      <td>8.479255e+09</td>\n",
       "      <td>54.0630</td>\n",
       "      <td>0.0</td>\n",
       "      <td>[{'unique_id': 'C0000000239', 'sell_price': 54...</td>\n",
       "    </tr>\n",
       "    <tr>\n",
       "      <th>28</th>\n",
       "      <td>2023-04-21T05:11:16</td>\n",
       "      <td>2023-04-07</td>\n",
       "      <td>8.491487e+09</td>\n",
       "      <td>54.1995</td>\n",
       "      <td>0.0</td>\n",
       "      <td>[{'unique_id': 'C0000000239', 'sell_price': 54...</td>\n",
       "    </tr>\n",
       "    <tr>\n",
       "      <th>29</th>\n",
       "      <td>2023-04-21T05:11:16</td>\n",
       "      <td>2023-04-10</td>\n",
       "      <td>8.580939e+09</td>\n",
       "      <td>54.7635</td>\n",
       "      <td>0.0</td>\n",
       "      <td>[{'unique_id': 'C0000000239', 'sell_price': 54...</td>\n",
       "    </tr>\n",
       "    <tr>\n",
       "      <th>30</th>\n",
       "      <td>2023-04-21T05:11:16</td>\n",
       "      <td>2023-04-11</td>\n",
       "      <td>8.612020e+09</td>\n",
       "      <td>54.9799</td>\n",
       "      <td>0.0</td>\n",
       "      <td>[{'unique_id': 'C0000000239', 'sell_price': 54...</td>\n",
       "    </tr>\n",
       "    <tr>\n",
       "      <th>31</th>\n",
       "      <td>2023-04-21T05:11:16</td>\n",
       "      <td>2023-04-12</td>\n",
       "      <td>8.571140e+09</td>\n",
       "      <td>54.7548</td>\n",
       "      <td>0.0</td>\n",
       "      <td>[{'unique_id': 'C0000000239', 'sell_price': 54...</td>\n",
       "    </tr>\n",
       "    <tr>\n",
       "      <th>32</th>\n",
       "      <td>2023-04-21T05:11:16</td>\n",
       "      <td>2023-04-17</td>\n",
       "      <td>8.624872e+09</td>\n",
       "      <td>55.0928</td>\n",
       "      <td>0.0</td>\n",
       "      <td>[{'unique_id': 'C0000000239', 'sell_price': 55...</td>\n",
       "    </tr>\n",
       "    <tr>\n",
       "      <th>33</th>\n",
       "      <td>2023-04-21T05:11:16</td>\n",
       "      <td>2023-04-18</td>\n",
       "      <td>8.586274e+09</td>\n",
       "      <td>54.8383</td>\n",
       "      <td>0.0</td>\n",
       "      <td>[{'unique_id': 'C0000000239', 'sell_price': 54...</td>\n",
       "    </tr>\n",
       "    <tr>\n",
       "      <th>34</th>\n",
       "      <td>2023-04-21T05:11:16</td>\n",
       "      <td>2023-04-19</td>\n",
       "      <td>8.506224e+09</td>\n",
       "      <td>54.3272</td>\n",
       "      <td>0.0</td>\n",
       "      <td>[{'unique_id': 'C0000000239', 'sell_price': 54...</td>\n",
       "    </tr>\n",
       "  </tbody>\n",
       "</table>\n",
       "</div>"
      ],
      "text/plain": [
       "          last_upd_date    nav_date     net_asset  last_val  previous_val  \\\n",
       "0   2023-04-21T05:11:16  2020-12-16  7.249426e+09   49.7713           0.0   \n",
       "1   2023-04-21T05:11:16  2023-02-27  8.572077e+09   55.3676           0.0   \n",
       "2   2023-04-21T05:11:16  2023-02-28  8.547069e+09   55.1807           0.0   \n",
       "3   2023-04-21T05:11:16  2023-03-01  8.541922e+09   55.0924           0.0   \n",
       "4   2023-04-21T05:11:16  2023-03-02  8.499624e+09   54.8038           0.0   \n",
       "5   2023-04-21T05:11:16  2023-03-03  8.468115e+09   54.6268           0.0   \n",
       "6   2023-04-21T05:11:16  2023-03-07  8.526048e+09   54.9300           0.0   \n",
       "7   2023-04-21T05:11:16  2023-03-08  8.508212e+09   54.7920           0.0   \n",
       "8   2023-04-21T05:11:16  2023-03-09  8.532229e+09   54.8946           0.0   \n",
       "9   2023-04-21T05:11:16  2023-03-10  8.462421e+09   54.4395           0.0   \n",
       "10  2023-04-21T05:11:16  2023-03-13  8.348046e+09   53.6425           0.0   \n",
       "11  2023-04-21T05:11:16  2023-03-14  8.105097e+09   52.0732           0.0   \n",
       "12  2023-04-21T05:11:16  2023-03-15  8.353707e+09   53.4719           0.0   \n",
       "13  2023-04-21T05:11:16  2023-03-16  8.307649e+09   53.0975           0.0   \n",
       "14  2023-04-21T05:11:16  2023-03-17  8.394309e+09   53.4770           0.0   \n",
       "15  2023-04-21T05:11:16  2023-03-20  8.334235e+09   53.1014           0.0   \n",
       "16  2023-04-21T05:11:16  2023-03-21  8.471742e+09   53.9016           0.0   \n",
       "17  2023-04-21T05:11:16  2023-03-22  8.529814e+09   54.2228           0.0   \n",
       "18  2023-04-21T05:11:16  2023-03-23  8.584345e+09   54.5603           0.0   \n",
       "19  2023-04-21T05:11:16  2023-03-24  8.575095e+09   54.5200           0.0   \n",
       "20  2023-04-21T05:11:16  2023-03-27  8.571399e+09   54.5497           0.0   \n",
       "21  2023-04-21T05:11:16  2023-03-28  8.651662e+09   55.1154           0.0   \n",
       "22  2023-04-21T05:11:16  2023-03-29  8.667325e+09   55.2318           0.0   \n",
       "23  2023-04-21T05:11:16  2023-03-30  8.605681e+09   54.8525           0.0   \n",
       "24  2023-04-21T05:11:16  2023-03-31  8.604525e+09   54.8212           0.0   \n",
       "25  2023-04-21T05:11:16  2023-04-03  8.621196e+09   54.9333           0.0   \n",
       "26  2023-04-21T05:11:16  2023-04-04  8.586661e+09   54.7132           0.0   \n",
       "27  2023-04-21T05:11:16  2023-04-05  8.479255e+09   54.0630           0.0   \n",
       "28  2023-04-21T05:11:16  2023-04-07  8.491487e+09   54.1995           0.0   \n",
       "29  2023-04-21T05:11:16  2023-04-10  8.580939e+09   54.7635           0.0   \n",
       "30  2023-04-21T05:11:16  2023-04-11  8.612020e+09   54.9799           0.0   \n",
       "31  2023-04-21T05:11:16  2023-04-12  8.571140e+09   54.7548           0.0   \n",
       "32  2023-04-21T05:11:16  2023-04-17  8.624872e+09   55.0928           0.0   \n",
       "33  2023-04-21T05:11:16  2023-04-18  8.586274e+09   54.8383           0.0   \n",
       "34  2023-04-21T05:11:16  2023-04-19  8.506224e+09   54.3272           0.0   \n",
       "\n",
       "                                             amc_info  \n",
       "0   {'unique_id': 'C0000000239', 'sell_price': 49....  \n",
       "1   [{'unique_id': 'C0000000239', 'sell_price': 55...  \n",
       "2   [{'unique_id': 'C0000000239', 'sell_price': 55...  \n",
       "3   [{'unique_id': 'C0000000239', 'sell_price': 55...  \n",
       "4   [{'unique_id': 'C0000000239', 'sell_price': 54...  \n",
       "5   [{'unique_id': 'C0000000239', 'sell_price': 54...  \n",
       "6   [{'unique_id': 'C0000000239', 'sell_price': 54...  \n",
       "7   [{'unique_id': 'C0000000239', 'sell_price': 54...  \n",
       "8   [{'unique_id': 'C0000000239', 'sell_price': 54...  \n",
       "9   [{'unique_id': 'C0000000239', 'sell_price': 54...  \n",
       "10  [{'unique_id': 'C0000000239', 'sell_price': 53...  \n",
       "11  [{'unique_id': 'C0000000239', 'sell_price': 52...  \n",
       "12  [{'unique_id': 'C0000000239', 'sell_price': 53...  \n",
       "13  [{'unique_id': 'C0000000239', 'sell_price': 53...  \n",
       "14  [{'unique_id': 'C0000000239', 'sell_price': 53...  \n",
       "15  [{'unique_id': 'C0000000239', 'sell_price': 53...  \n",
       "16  [{'unique_id': 'C0000000239', 'sell_price': 53...  \n",
       "17  [{'unique_id': 'C0000000239', 'sell_price': 54...  \n",
       "18  [{'unique_id': 'C0000000239', 'sell_price': 54...  \n",
       "19  [{'unique_id': 'C0000000239', 'sell_price': 54...  \n",
       "20  [{'unique_id': 'C0000000239', 'sell_price': 54...  \n",
       "21  [{'unique_id': 'C0000000239', 'sell_price': 55...  \n",
       "22  [{'unique_id': 'C0000000239', 'sell_price': 55...  \n",
       "23  [{'unique_id': 'C0000000239', 'sell_price': 54...  \n",
       "24  [{'unique_id': 'C0000000239', 'sell_price': 54...  \n",
       "25  [{'unique_id': 'C0000000239', 'sell_price': 54...  \n",
       "26  [{'unique_id': 'C0000000239', 'sell_price': 54...  \n",
       "27  [{'unique_id': 'C0000000239', 'sell_price': 54...  \n",
       "28  [{'unique_id': 'C0000000239', 'sell_price': 54...  \n",
       "29  [{'unique_id': 'C0000000239', 'sell_price': 54...  \n",
       "30  [{'unique_id': 'C0000000239', 'sell_price': 54...  \n",
       "31  [{'unique_id': 'C0000000239', 'sell_price': 54...  \n",
       "32  [{'unique_id': 'C0000000239', 'sell_price': 55...  \n",
       "33  [{'unique_id': 'C0000000239', 'sell_price': 54...  \n",
       "34  [{'unique_id': 'C0000000239', 'sell_price': 54...  "
      ]
     },
     "execution_count": 42,
     "metadata": {},
     "output_type": "execute_result"
    }
   ],
   "source": [
    "df"
   ]
  },
  {
   "cell_type": "code",
   "execution_count": null,
   "id": "eb88a539",
   "metadata": {},
   "outputs": [],
   "source": []
  }
 ],
 "metadata": {
  "kernelspec": {
   "display_name": "Python 3 (ipykernel)",
   "language": "python",
   "name": "python3"
  },
  "language_info": {
   "codemirror_mode": {
    "name": "ipython",
    "version": 3
   },
   "file_extension": ".py",
   "mimetype": "text/x-python",
   "name": "python",
   "nbconvert_exporter": "python",
   "pygments_lexer": "ipython3",
   "version": "3.10.6"
  }
 },
 "nbformat": 4,
 "nbformat_minor": 5
}
