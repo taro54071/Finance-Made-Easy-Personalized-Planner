{
 "cells": [
  {
   "cell_type": "code",
   "execution_count": 9,
   "id": "5651d3ba",
   "metadata": {},
   "outputs": [
    {
     "ename": "ModuleNotFoundError",
     "evalue": "No module named 'auto_ts'",
     "output_type": "error",
     "traceback": [
      "\u001b[1;31m---------------------------------------------------------------------------\u001b[0m",
      "\u001b[1;31mModuleNotFoundError\u001b[0m                       Traceback (most recent call last)",
      "Cell \u001b[1;32mIn[9], line 2\u001b[0m\n\u001b[0;32m      1\u001b[0m \u001b[38;5;28;01mimport\u001b[39;00m \u001b[38;5;21;01mpandas\u001b[39;00m \u001b[38;5;28;01mas\u001b[39;00m \u001b[38;5;21;01mpd\u001b[39;00m\n\u001b[1;32m----> 2\u001b[0m \u001b[38;5;28;01mfrom\u001b[39;00m \u001b[38;5;21;01mauto_ts\u001b[39;00m \u001b[38;5;28;01mimport\u001b[39;00m auto_timeseries\n\u001b[0;32m      3\u001b[0m \u001b[38;5;28;01mfrom\u001b[39;00m \u001b[38;5;21;01mdatetime\u001b[39;00m \u001b[38;5;28;01mimport\u001b[39;00m datetime, date\n\u001b[0;32m      4\u001b[0m \u001b[38;5;28;01mimport\u001b[39;00m \u001b[38;5;21;01mmatplotlib\u001b[39;00m\u001b[38;5;21;01m.\u001b[39;00m\u001b[38;5;21;01mpyplot\u001b[39;00m \u001b[38;5;28;01mas\u001b[39;00m \u001b[38;5;21;01mplt\u001b[39;00m\n",
      "\u001b[1;31mModuleNotFoundError\u001b[0m: No module named 'auto_ts'"
     ]
    }
   ],
   "source": [
    "import pandas as pd\n",
    "from auto_ts import auto_timeseries\n",
    "from datetime import datetime, date\n",
    "import matplotlib.pyplot as plt\n",
    "\n",
    "path = 'C:\\\\Users\\\\Thunyavut\\\\Desktop\\\\Finance-Made-Easy-Personalized-Planner\\\\Python_script\\\\ssf_nav_data\\\\'\n",
    "file = 'M0134_2564_SSF.csv'\n",
    "df = pd.read_csv(f'{path}{file}')\n",
    "\n",
    "train_size = int(len(df) * 0.7)\n",
    "train = df[:train_size]\n",
    "test = df[train_size:]\n",
    "\n",
    "df['nav_date'] = pd.to_datetime(df['nav_date'])\n",
    "\n",
    "# Define the time column and target column names\n",
    "time_column = 'nav_date'\n",
    "target_column = 'last_val'\n",
    "\n",
    "# Initialize the AutoTS model\n",
    "model = auto_timeseries(score_type='rmse')\n",
    "\n",
    "# Fit the model on the time series data\n",
    "model.fit(traindata=train, ts_column=time_column, target=target_column, cv=5)\n",
    "\n",
    "# Predict future values\n",
    "future_predictions = model.predict(test)\n",
    "print(future_predictions)"
   ]
  },
  {
   "cell_type": "code",
   "execution_count": 5,
   "id": "51fed63d",
   "metadata": {},
   "outputs": [
    {
     "ename": "NameError",
     "evalue": "name 'plt' is not defined",
     "output_type": "error",
     "traceback": [
      "\u001b[1;31m---------------------------------------------------------------------------\u001b[0m",
      "\u001b[1;31mNameError\u001b[0m                                 Traceback (most recent call last)",
      "Cell \u001b[1;32mIn[5], line 1\u001b[0m\n\u001b[1;32m----> 1\u001b[0m \u001b[43mplt\u001b[49m\u001b[38;5;241m.\u001b[39mfigure(figsize\u001b[38;5;241m=\u001b[39m(\u001b[38;5;241m20\u001b[39m, \u001b[38;5;241m6\u001b[39m))\n\u001b[0;32m      2\u001b[0m plt\u001b[38;5;241m.\u001b[39mscatter(test[\u001b[38;5;124m'\u001b[39m\u001b[38;5;124mnav_date\u001b[39m\u001b[38;5;124m'\u001b[39m], test[\u001b[38;5;124m'\u001b[39m\u001b[38;5;124mlast_val\u001b[39m\u001b[38;5;124m'\u001b[39m], color\u001b[38;5;241m=\u001b[39m\u001b[38;5;124m'\u001b[39m\u001b[38;5;124mg\u001b[39m\u001b[38;5;124m'\u001b[39m, label\u001b[38;5;241m=\u001b[39m\u001b[38;5;124m'\u001b[39m\u001b[38;5;124mTrue values\u001b[39m\u001b[38;5;124m'\u001b[39m)\n\u001b[0;32m      3\u001b[0m plt\u001b[38;5;241m.\u001b[39mplot(test[\u001b[38;5;124m'\u001b[39m\u001b[38;5;124mnav_date\u001b[39m\u001b[38;5;124m'\u001b[39m], future_predictions[\u001b[38;5;124m'\u001b[39m\u001b[38;5;124myhat\u001b[39m\u001b[38;5;124m'\u001b[39m], color\u001b[38;5;241m=\u001b[39m\u001b[38;5;124m'\u001b[39m\u001b[38;5;124mr\u001b[39m\u001b[38;5;124m'\u001b[39m, label\u001b[38;5;241m=\u001b[39m\u001b[38;5;124m'\u001b[39m\u001b[38;5;124mTest predictions\u001b[39m\u001b[38;5;124m'\u001b[39m)\n",
      "\u001b[1;31mNameError\u001b[0m: name 'plt' is not defined"
     ]
    }
   ],
   "source": [
    "plt.figure(figsize=(20, 6))\n",
    "plt.scatter(test['nav_date'], test['last_val'], color='g', label='True values')\n",
    "plt.plot(test['nav_date'], future_predictions['yhat'], color='r', label='Test predictions')\n",
    "plt.xlabel('Date')\n",
    "plt.ylabel('y')\n",
    "plt.legend()\n",
    "plt.xticks(rotation=45)\n",
    "plt.show()"
   ]
  }
 ],
 "metadata": {
  "kernelspec": {
   "display_name": "Python 3 (ipykernel)",
   "language": "python",
   "name": "python3"
  },
  "language_info": {
   "codemirror_mode": {
    "name": "ipython",
    "version": 3
   },
   "file_extension": ".py",
   "mimetype": "text/x-python",
   "name": "python",
   "nbconvert_exporter": "python",
   "pygments_lexer": "ipython3",
   "version": "3.11.3"
  }
 },
 "nbformat": 4,
 "nbformat_minor": 5
}
