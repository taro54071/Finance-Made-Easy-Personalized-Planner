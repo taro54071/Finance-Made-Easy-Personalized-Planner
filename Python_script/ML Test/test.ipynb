{
 "cells": [
  {
   "cell_type": "code",
   "execution_count": 12,
   "metadata": {},
   "outputs": [
    {
     "name": "stdout",
     "output_type": "stream",
     "text": [
      "---------------------\n",
      "Round :: 10\n",
      "[]\n",
      "answer = ---------------------\n",
      "['Z']\n",
      "Round :: 9\n",
      "[]\n",
      "answer = ---------------------\n",
      "['Z', 'Q']\n",
      "Round :: 8\n",
      "[]\n",
      "answer = ---------------------\n",
      "['Z', 'Q', 'E']\n",
      "Round :: 7\n",
      "[2, 3, 5, 6, 7, 8, 9, 10, 11, 12, 13, 14, 15]\n",
      "answer = --PP-PPPPPPPPPPP-----\n",
      "['Z', 'Q', 'E']\n",
      "Round :: 6\n",
      "[]\n",
      "answer = --PP-PPPPPPPPPPP-----\n",
      "['Z', 'Q', 'E', '']\n",
      "Round :: 5\n",
      "[]\n",
      "answer = --PP-PPPPPPPPPPP-----\n",
      "['Z', 'Q', 'E', '', '']\n",
      "Round :: 4\n",
      "[]\n",
      "answer = --PP-PPPPPPPPPPP-----\n",
      "['Z', 'Q', 'E', '', '', '']\n",
      "Round :: 3\n",
      "[]\n",
      "answer = --PP-PPPPPPPPPPP-----\n",
      "['Z', 'Q', 'E', '', '', '', '']\n",
      "Round :: 2\n",
      "[]\n",
      "answer = --PP-PPPPPPPPPPP-----\n",
      "['Z', 'Q', 'E', '', '', '', '', '']\n",
      "Round :: 1\n",
      "[]\n",
      "answer = --PP-PPPPPPPPPPP-----\n",
      "['Z', 'Q', 'E', '', '', '', '', '', '']\n"
     ]
    }
   ],
   "source": [
    "test = 'HAPPYPPPPPPPPPPPAAAAA'\n",
    "answer = ''\n",
    "for char in test:\n",
    "    answer+='-'\n",
    "print(answer)\n",
    "turn = 10\n",
    "wrong = []\n",
    "while(turn>0):\n",
    "    print('Round :: '+ str(turn))\n",
    "    u_input = input('Input BRO')\n",
    "    setIndex = []\n",
    "    index = 0\n",
    "    for char in test:\n",
    "        if(char==u_input):\n",
    "            setIndex.append(index)\n",
    "        index+=1\n",
    "    print(setIndex)\n",
    "    if(len(setIndex)>0):\n",
    "        for index in setIndex:\n",
    "            answer = answer[:index] + u_input + answer[index+1:]\n",
    "    else:\n",
    "        wrong.append(u_input)\n",
    "    print('answer = '+ answer)\n",
    "    print(wrong)\n",
    "    if(test == answer):\n",
    "        break\n",
    "    turn-=1\n",
    "    \n"
   ]
  },
  {
   "cell_type": "code",
   "execution_count": 35,
   "metadata": {},
   "outputs": [
    {
     "name": "stdout",
     "output_type": "stream",
     "text": [
      "fuck\n",
      "uck\n",
      "ck\n",
      "k\n"
     ]
    }
   ],
   "source": [
    "for i in range(len(test)):\n",
    "    print(test[i:])"
   ]
  },
  {
   "cell_type": "code",
   "execution_count": null,
   "metadata": {},
   "outputs": [],
   "source": []
  }
 ],
 "metadata": {
  "kernelspec": {
   "display_name": "Python 3",
   "language": "python",
   "name": "python3"
  },
  "language_info": {
   "codemirror_mode": {
    "name": "ipython",
    "version": 3
   },
   "file_extension": ".py",
   "mimetype": "text/x-python",
   "name": "python",
   "nbconvert_exporter": "python",
   "pygments_lexer": "ipython3",
   "version": "3.10.10"
  },
  "orig_nbformat": 4
 },
 "nbformat": 4,
 "nbformat_minor": 2
}
