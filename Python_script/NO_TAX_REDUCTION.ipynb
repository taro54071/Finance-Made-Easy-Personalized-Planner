{
 "cells": [
  {
   "cell_type": "code",
   "execution_count": null,
   "metadata": {},
   "outputs": [],
   "source": [
    "import requests\n",
    "import json\n",
    "import pandas as pd\n",
    "\n",
    "headers1 = {\n",
    "    # Request headers of fund daily info\n",
    "    'Ocp-Apim-Subscription-Key': 'afbbb604d2814b59b0e5fa6ff3717e16'\n",
    "}\n",
    "\n",
    "headers2 = {\n",
    "    # Request headers of fund fact sheet\n",
    "    'Ocp-Apim-Subscription-Key': '16c86c3eb3cb4fee8f54932b92630aef'\n",
    "}"
   ]
  },
  {
   "cell_type": "code",
   "execution_count": null,
   "metadata": {},
   "outputs": [],
   "source": [
    "unique_id = \"C0000000239\"\n",
    "response = requests.get(f'https://api.sec.or.th/FundFactsheet/fund/amc/{unique_id}', headers = headers2)\n",
    "# The total of mutual fund which SCB is occupied"
   ]
  },
  {
   "cell_type": "code",
   "execution_count": null,
   "metadata": {},
   "outputs": [],
   "source": [
    "obj_dict = json.loads(response.text)\n",
    "proj_id_sets = []\n",
    "for x in obj_dict:\n",
    "    print(x['proj_id'])\n",
    "    proj_id_sets.append(x['proj_id'])"
   ]
  },
  {
   "cell_type": "code",
   "execution_count": null,
   "metadata": {},
   "outputs": [],
   "source": [
    "tmp = requests.get(f'https://api.sec.or.th/FundFactsheet/fund/M0001_2538/suitability', headers=headers2)\n",
    "tmp.text\n",
    "tmp1 = json.loads(tmp.text)\n",
    "tmp1"
   ]
  },
  {
   "cell_type": "code",
   "execution_count": null,
   "metadata": {},
   "outputs": [],
   "source": [
    "json_str = '{\"name\": \"John\", \"age\": 25}'\n",
    "tmp69 = json.loads(json_str)\n",
    "tmp69['fuckyou'] = 'fuckme'\n",
    "type (tmp69)"
   ]
  },
  {
   "cell_type": "code",
   "execution_count": null,
   "metadata": {},
   "outputs": [],
   "source": [
    "import time\n",
    "import csv\n",
    "list_risk = []\n",
    "no_head = ['proj_name','risk_spectrum']\n",
    "for x in proj_id_sets:\n",
    "    tmp = requests.get(f'https://api.sec.or.th/FundFactsheet/fund/{x}/suitability', headers=headers2)\n",
    "    time.sleep(0.5)\n",
    "    try:\n",
    "        tmp1 = json.loads(tmp.text)\n",
    "        tmp2 = {}\n",
    "        tmp2['proj_name'] = x\n",
    "        tmp2['risk_spectrum'] = tmp1['risk_spectrum']\n",
    "        if not tmp2['risk_spectrum'] == None:\n",
    "            list_risk.append(tmp2)\n",
    "        print(list_risk)\n",
    "    except Exception as e:\n",
    "        pass"
   ]
  },
  {
   "cell_type": "code",
   "execution_count": null,
   "metadata": {},
   "outputs": [],
   "source": []
  },
  {
   "cell_type": "code",
   "execution_count": null,
   "metadata": {},
   "outputs": [],
   "source": [
    "import base64\n",
    "base64.b64decode(tmp1['important_notice']).decode('utf-8')"
   ]
  },
  {
   "cell_type": "code",
   "execution_count": null,
   "metadata": {},
   "outputs": [],
   "source": []
  }
 ],
 "metadata": {
  "kernelspec": {
   "display_name": "Python 3",
   "language": "python",
   "name": "python3"
  },
  "language_info": {
   "codemirror_mode": {
    "name": "ipython",
    "version": 3
   },
   "file_extension": ".py",
   "mimetype": "text/x-python",
   "name": "python",
   "nbconvert_exporter": "python",
   "pygments_lexer": "ipython3",
   "version": "3.10.10"
  }
 },
 "nbformat": 4,
 "nbformat_minor": 2
}
