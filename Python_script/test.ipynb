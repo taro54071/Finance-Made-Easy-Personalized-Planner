{
 "cells": [
  {
   "cell_type": "code",
   "execution_count": 1,
   "metadata": {},
   "outputs": [],
   "source": [
    "import requests\n",
    "import json\n",
    "import pandas as pd\n",
    "\n",
    "headers1 = {\n",
    "    # Request headers of fund daily info\n",
    "    'Ocp-Apim-Subscription-Key': 'afbbb604d2814b59b0e5fa6ff3717e16'\n",
    "}\n",
    "\n",
    "headers2 = {\n",
    "    # Request headers of fund fact sheet\n",
    "    'Ocp-Apim-Subscription-Key': '16c86c3eb3cb4fee8f54932b92630aef'\n",
    "}"
   ]
  },
  {
   "cell_type": "code",
   "execution_count": 24,
   "metadata": {},
   "outputs": [],
   "source": [
    "from PIL import Image \n",
    " \n",
    "  \n",
    "img = Image.open(r\"./page0.jpg\") \n",
    " \n",
    " \n",
    "left = 1150\n",
    "top = 350\n",
    "right = 1570\n",
    "bottom = 410\n",
    " \n",
    "  \n",
    "img_res = img.crop((left, top, right, bottom)) \n",
    " \n",
    " \n",
    "img_res.show()\n",
    "img_res.save('')"
   ]
  },
  {
   "cell_type": "code",
   "execution_count": null,
   "metadata": {},
   "outputs": [],
   "source": [
    "import cv2\n",
    "import pytesseract\n",
    "\n",
    "# Load image\n",
    "image = cv2.imread('your_image_path.jpg')\n",
    "\n",
    "# Convert to HSV\n",
    "hsv = cv2.cvtColor(image, cv2.COLOR_BGR2HSV)\n",
    "\n",
    "# Define light green range and create mask\n",
    "lower_green = np.array([your_lower_hsv_values])\n",
    "upper_green = np.array([your_upper_hsv_values])\n",
    "mask = cv2.inRange(hsv, lower_green, upper_green)\n",
    "\n",
    "# Find contours\n",
    "contours, _ = cv2.findContours(mask, cv2.RETR_TREE, cv2.CHAIN_APPROX_SIMPLE)\n",
    "\n",
    "# Filter contours, find the light green box, and crop it\n",
    "for contour in contours:\n",
    "    # Apply filtering based on size or shape if necessary\n",
    "    x, y, w, h = cv2.boundingRect(contour)\n",
    "    cropped_box = image[y:y+h, x:x+w]\n",
    "\n",
    "# Use Tesseract to recognize the number\n",
    "number = pytesseract.image_to_string(cropped_box, config='--psm 6')\n",
    "print(number)"
   ]
  }
 ],
 "metadata": {
  "kernelspec": {
   "display_name": "Python 3",
   "language": "python",
   "name": "python3"
  },
  "language_info": {
   "codemirror_mode": {
    "name": "ipython",
    "version": 3
   },
   "file_extension": ".py",
   "mimetype": "text/x-python",
   "name": "python",
   "nbconvert_exporter": "python",
   "pygments_lexer": "ipython3",
   "version": "3.10.6"
  }
 },
 "nbformat": 4,
 "nbformat_minor": 2
}
