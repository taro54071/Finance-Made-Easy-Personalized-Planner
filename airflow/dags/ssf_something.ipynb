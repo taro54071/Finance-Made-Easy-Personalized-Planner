{
 "cells": [
  {
   "cell_type": "code",
   "execution_count": 1,
   "metadata": {},
   "outputs": [],
   "source": [
    "import requests\n",
    "import json\n",
    "import pandas as pd\n",
    "\n",
    "fdi_key = {\n",
    "    # Request headers of fund daily info\n",
    "    'Ocp-Apim-Subscription-Key': 'afbbb604d2814b59b0e5fa6ff3717e16'\n",
    "}\n",
    "\n",
    "ffs_key = {\n",
    "    # Request headers of fund fact sheet\n",
    "    'Ocp-Apim-Subscription-Key': '16c86c3eb3cb4fee8f54932b92630aef'\n",
    "}"
   ]
  },
  {
   "cell_type": "code",
   "execution_count": 4,
   "metadata": {},
   "outputs": [
    {
     "name": "stdout",
     "output_type": "stream",
     "text": [
      "['M0005_2558', 'M0005_2565', 'M0017_2565', 'M0059_2564', 'M0090_2561', 'M0110_2564', 'M0120_2564', 'M0134_2564', 'M0144_2563', 'M0151_2563', 'M0152_2564', 'M0158_2564', 'M0162_2564', 'M0163_2564', 'M0164_2564', 'M0165_2564', 'M0181_2563', 'M0182_2565', 'M0185_2565', 'M0196_2564', 'M0207_2549', 'M0211_2564', 'M0228_2554', 'M0232_2564', 'M0260_2550', 'M0263_2550', 'M0274_2564', 'M0277_2564', 'M0279_2561', 'M0284_2555', 'M0285_2564', 'M0311_2555', 'M0311_2564', 'M0324_2562', 'M0325_2562', 'M0327_2562', 'M0329_2563', 'M0348_2561', 'M0386_2564', 'M0396_2564', 'M0420_2564', 'M0450_2565', 'M0452_2546', 'M0464_2548', 'M0465_2564', 'M0466_2564', 'M0489_2553', 'M0513_2564', 'M0515_2565', 'M0536_2563', 'M0539_2564', 'M0550_2560', 'M0597_2552', 'M0620_2552', 'M0623_2547', 'M0626_2547', 'M0643_2555', 'M0732_2556', 'M0749_2558', 'M0828_2554', 'M0856_2553', 'M0866_2554', 'M0874_2554']\n"
     ]
    }
   ],
   "source": [
    "list_ssf_path = '../config/ssf.txt'\n",
    "with open(list_ssf_path, 'r') as file:\n",
    "    list_ssf = [line.strip() for line in file]\n",
    "\n",
    "print(list_ssf)"
   ]
  },
  {
   "cell_type": "code",
   "execution_count": 5,
   "metadata": {},
   "outputs": [],
   "source": [
    "from datetime import date, timedelta\n",
    "from datetime import datetime\n",
    "\n",
    "def daterange(start_date, end_date):\n",
    "    for n in range(int((end_date - start_date).days)):\n",
    "        yield start_date + timedelta(n)"
   ]
  },
  {
   "cell_type": "code",
   "execution_count": 6,
   "metadata": {},
   "outputs": [],
   "source": [
    "end_date = datetime(2022, 12, 31)"
   ]
  },
  {
   "cell_type": "code",
   "execution_count": null,
   "metadata": {},
   "outputs": [],
   "source": []
  },
  {
   "cell_type": "code",
   "execution_count": null,
   "metadata": {},
   "outputs": [],
   "source": [
    "import csv\n",
    "header = ['nav_date',\n",
    "'net_asset',\n",
    "'last_val',\n",
    "'sell_price',\n",
    "'buy_price',\n",
    "'sell_swap_price',\n",
    "'buy_swap_price']\n",
    "for rmf_id in list_rmf:\n",
    "    year =  rmf_id.rsplit(\"_\", 1) #Split _ to dictate years in Thai Calendar, TH year - 543 = A.D., B Year\n",
    "    start_year = (int)(year[1])-543 #At index 1, in list String year is Year in TH, then we subtract by 543\n",
    "    start_date = datetime(start_year,1,1)\n",
    "    filename = f'../config/data/rmf_nav_data/'+rmf_id+'_RMF.csv'\n",
    "    with open(filename, 'w',newline = '') as f_out:    \n",
    "        f_out = csv.writer(f_out,quoting=csv.QUOTE_ALL)\n",
    "        f_out.writerow(header)\n",
    "        for date in daterange(start_date,datetime(2022, 12, 31)):\n",
    "                res_FDI = requests.get(f'https://api.sec.or.th/FundDailyInfo/{ssf_id}/dailynav/{date.strftime(\"%Y-%m-%d\")}', headers = fdi_key)\n",
    "                print(res_FDI)\n",
    "                print(date)\n",
    "                if(res_FDI.status_code == 200):\n",
    "                    res_json = json.loads(res_FDI.text)\n",
    "                    f_out.writerow([res_json['nav_date'],res_json['net_asset'],res_json['last_val'],\n",
    "                                 res_json['amc_info'][0]['sell_price'],\n",
    "                                 res_json['amc_info'][0]['buy_price'],\n",
    "                                 res_json['amc_info'][0]['sell_swap_price'],\n",
    "                                 res_json['amc_info'][0]['buy_swap_price']])\n"
   ]
  }
 ],
 "metadata": {
  "kernelspec": {
   "display_name": "Python 3",
   "language": "python",
   "name": "python3"
  },
  "language_info": {
   "codemirror_mode": {
    "name": "ipython",
    "version": 3
   },
   "file_extension": ".py",
   "mimetype": "text/x-python",
   "name": "python",
   "nbconvert_exporter": "python",
   "pygments_lexer": "ipython3",
   "version": "3.10.10"
  },
  "orig_nbformat": 4
 },
 "nbformat": 4,
 "nbformat_minor": 2
}
