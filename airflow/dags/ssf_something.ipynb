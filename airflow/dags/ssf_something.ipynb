{
 "cells": [
  {
   "cell_type": "code",
   "execution_count": 2,
   "metadata": {},
   "outputs": [],
   "source": [
    "import requests\n",
    "import json\n",
    "import pandas as pd\n",
    "\n",
    "fdi_key = {\n",
    "    # Request headers of fund daily info\n",
    "    'Ocp-Apim-Subscription-Key': 'afbbb604d2814b59b0e5fa6ff3717e16'\n",
    "}\n",
    "\n",
    "ffs_key = {\n",
    "    # Request headers of fund fact sheet\n",
    "    'Ocp-Apim-Subscription-Key': '16c86c3eb3cb4fee8f54932b92630aef'\n",
    "}"
   ]
  },
  {
   "cell_type": "code",
   "execution_count": 3,
   "metadata": {},
   "outputs": [],
   "source": [
    "unique_id = \"C0000000239\"\n",
    "fundfactsheet = requests.get(f'https://api.sec.or.th/FundFactsheet/fund/amc/{unique_id}', headers = ffs_key)\n",
    "# The total of mutual fund which SCB is occupied"
   ]
  },
  {
   "cell_type": "code",
   "execution_count": 4,
   "metadata": {},
   "outputs": [],
   "source": [
    "proj_list = json.loads(fundfactsheet.text)"
   ]
  },
  {
   "cell_type": "code",
   "execution_count": 5,
   "metadata": {},
   "outputs": [],
   "source": [
    "list_proj_id = []\n",
    "for x in proj_list :\n",
    "    list_proj_id.append(x['proj_id'])"
   ]
  },
  {
   "cell_type": "code",
   "execution_count": 11,
   "metadata": {},
   "outputs": [
    {
     "name": "stdout",
     "output_type": "stream",
     "text": [
      "ssf\n",
      "ssf\n",
      "ssf\n",
      "rmf\n",
      "ssf\n",
      "rmf\n",
      "rmf\n",
      "rmf\n",
      "rmf\n",
      "rmf\n",
      "ssf\n",
      "ssf\n",
      "ssf\n",
      "ssf\n",
      "ssf\n",
      "rmf\n",
      "ssf\n",
      "ssf\n",
      "ssf\n",
      "ssf\n",
      "ssf\n",
      "ssf\n",
      "ssf\n",
      "ssf\n",
      "rmf\n",
      "ssf\n",
      "ssf\n",
      "ssf\n",
      "ssf\n",
      "ssf\n",
      "ssf\n",
      "ssf\n",
      "rmf\n",
      "ssf\n",
      "ssf\n",
      "ssf\n",
      "ssf\n",
      "ssf\n",
      "ssf\n",
      "ssf\n",
      "rmf\n",
      "rmf\n",
      "ssf\n",
      "ssf\n",
      "rmf\n",
      "ssf\n",
      "ssf\n",
      "ssf\n",
      "ssf\n",
      "ssf\n",
      "rmf\n",
      "ssf\n",
      "ssf\n",
      "ssf\n",
      "rmf\n",
      "rmf\n",
      "rmf\n",
      "ssf\n",
      "ssf\n",
      "rmf\n",
      "ssf\n",
      "ssf\n",
      "ssf\n",
      "ssf\n",
      "rmf\n",
      "ssf\n",
      "ssf\n",
      "rmf\n",
      "rmf\n",
      "ssf\n",
      "ssf\n",
      "rmf\n",
      "rmf\n",
      "ssf\n",
      "rmf\n",
      "rmf\n",
      "rmf\n",
      "ssf\n",
      "rmf\n",
      "ssf\n",
      "ssf\n",
      "ssf\n",
      "ssf\n",
      "rmf\n",
      "ssf\n",
      "ssf\n",
      "rmf\n",
      "rmf\n",
      "ssf\n",
      "ssf\n",
      "ssf\n",
      "ssf\n",
      "rmf\n",
      "rmf\n"
     ]
    }
   ],
   "source": [
    "import time\n",
    "list_rmf = []\n",
    "list_ssf = []\n",
    "for x in list_proj_id :\n",
    "    fundfactsheet = requests.get(f'https://api.sec.or.th/FundFactsheet/fund/{x}/specification', headers = ffs_key)\n",
    "    time.sleep(0.1)\n",
    "    # print(fundfactsheet.status_code)\n",
    "    if fundfactsheet.status_code == 200:\n",
    "        for j in json.loads(fundfactsheet.text):\n",
    "            if j['spec_code'] == 'SSF':\n",
    "                print('ssf')\n",
    "                list_ssf.append(x)\n",
    "            elif j['spec_code'] == 'RMF':\n",
    "                print('rmf')\n",
    "                list_rmf.append(x)\n",
    "    # if len(list_rmf) >= 5 | len(list_ssf) >= 5:\n",
    "        # break"
   ]
  },
  {
   "cell_type": "code",
   "execution_count": 12,
   "metadata": {},
   "outputs": [],
   "source": [
    "with open(r'C:/Users/momot/Documents/Mahidol/Senior project/Finance-Made-Easy-Personalized-Planner/airflow/config/ssf.txt','w') as fp:\n",
    "    for fund in list_ssf:\n",
    "        fp.write(\"%s\\n\" % fund)\n",
    "\n",
    "with open(r'C:/Users/momot/Documents/Mahidol/Senior project/Finance-Made-Easy-Personalized-Planner/airflow/config/rmf.txt','w') as fp:\n",
    "    for fund in list_rmf:\n",
    "        fp.write(\"%s\\n\" % fund)\n"
   ]
  },
  {
   "cell_type": "code",
   "execution_count": 1,
   "metadata": {},
   "outputs": [
    {
     "name": "stdout",
     "output_type": "stream",
     "text": [
      "['M0049_2565', 'M0074_2544', 'M0079_2544', 'M0080_2544', 'M0081_2544', 'M0088_2565', 'M0146_2565', 'M0181_2564', 'M0236_2554', 'M0295_2564', 'M0310_2564', 'M0317_2565', 'M0374_2565', 'M0424_2562', 'M0425_2562', 'M0426_2562', 'M0457_2565', 'M0511_2558', 'M0518_2558', 'M0522_2558', 'M0547_2564', 'M0548_2564', 'M0555_2564', 'M0570_2560', 'M0593_2558', 'M0612_2558', 'M0721_2565', 'M0778_2554', 'M0787_2554', 'M0933_2554', 'M0935_2554']\n"
     ]
    }
   ],
   "source": [
    "list_rmf_path = 'C:/Users/momot/Documents/Mahidol/Senior project/Finance-Made-Easy-Personalized-Planner/airflow/config/rmf.txt'\n",
    "with open(list_rmf_path, 'r') as file:\n",
    "    list_rmf = [line.strip() for line in file]\n",
    "\n",
    "print(list_rmf)"
   ]
  },
  {
   "cell_type": "code",
   "execution_count": 2,
   "metadata": {},
   "outputs": [],
   "source": [
    "from datetime import date, timedelta\n",
    "from datetime import datetime\n",
    "\n",
    "def daterange(start_date, end_date):\n",
    "    for n in range(int((end_date - start_date).days)):\n",
    "        yield start_date + timedelta(n)"
   ]
  },
  {
   "cell_type": "code",
   "execution_count": 3,
   "metadata": {},
   "outputs": [],
   "source": [
    "end_date = datetime(2022, 12, 31)"
   ]
  },
  {
   "cell_type": "code",
   "execution_count": null,
   "metadata": {},
   "outputs": [],
   "source": [
    "import csv\n",
    "header = ['nav_date',\n",
    "'net_asset',\n",
    "'last_val',\n",
    "'sell_price',\n",
    "'buy_price',\n",
    "'sell_swap_price',\n",
    "'buy_swap_price']\n",
    "for rmf_id in list_rmf:\n",
    "    year =  rmf_id.rsplit(\"_\", 1) #Split _ to dictate years in Thai Calendar, TH year - 543 = A.D., B Year\n",
    "    start_year = (int)(year[1])-543 #At index 1, in list String year is Year in TH, then we subtract by 543\n",
    "    start_date = datetime(start_year,1,1)\n",
    "    filename = f'../config/data/rmf_nav_data/'+rmf_id+'_RMF.csv'\n",
    "    with open(filename, 'w',newline = '') as f_out:    \n",
    "        f_out = csv.writer(f_out,quoting=csv.QUOTE_ALL)\n",
    "        f_out.writerow(header)\n",
    "        for date in daterange(start_date,datetime(2022, 12, 31)):\n",
    "                res_FDI = requests.get(f'https://api.sec.or.th/FundDailyInfo/{ssf_id}/dailynav/{date.strftime(\"%Y-%m-%d\")}', headers = fdi_key)\n",
    "                print(res_FDI)\n",
    "                print(date)\n",
    "                if(res_FDI.status_code == 200):\n",
    "                    res_json = json.loads(res_FDI.text)\n",
    "                    f_out.writerow([res_json['nav_date'],res_json['net_asset'],res_json['last_val'],\n",
    "                                 res_json['amc_info'][0]['sell_price'],\n",
    "                                 res_json['amc_info'][0]['buy_price'],\n",
    "                                 res_json['amc_info'][0]['sell_swap_price'],\n",
    "                                 res_json['amc_info'][0]['buy_swap_price']])\n"
   ]
  }
 ],
 "metadata": {
  "kernelspec": {
   "display_name": "Python 3",
   "language": "python",
   "name": "python3"
  },
  "language_info": {
   "codemirror_mode": {
    "name": "ipython",
    "version": 3
   },
   "file_extension": ".py",
   "mimetype": "text/x-python",
   "name": "python",
   "nbconvert_exporter": "python",
   "pygments_lexer": "ipython3",
   "version": "3.10.6"
  },
  "orig_nbformat": 4
 },
 "nbformat": 4,
 "nbformat_minor": 2
}
