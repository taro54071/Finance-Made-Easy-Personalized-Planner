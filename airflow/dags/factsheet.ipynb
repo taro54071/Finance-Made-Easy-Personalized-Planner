{
 "cells": [
  {
   "cell_type": "code",
   "execution_count": null,
   "metadata": {},
   "outputs": [],
   "source": [
    "import requests\n",
    "import json\n",
    "import pandas as pd\n",
    "\n",
    "fdi_key = {\n",
    "    # Request headers of fund daily info\n",
    "    'Ocp-Apim-Subscription-Key': 'afbbb604d2814b59b0e5fa6ff3717e16'\n",
    "}\n",
    "\n",
    "ffs_key = {\n",
    "    # Request headers of fund fact sheet\n",
    "    'Ocp-Apim-Subscription-Key': '16c86c3eb3cb4fee8f54932b92630aef'\n",
    "}"
   ]
  },
  {
   "cell_type": "code",
   "execution_count": 1,
   "metadata": {},
   "outputs": [
    {
     "name": "stdout",
     "output_type": "stream",
     "text": [
      "['M0049_2565', 'M0074_2544', 'M0079_2544', 'M0080_2544', 'M0081_2544', 'M0088_2565', 'M0146_2565', 'M0181_2564', 'M0236_2554', 'M0295_2564', 'M0310_2564', 'M0317_2565', 'M0374_2565', 'M0424_2562', 'M0425_2562', 'M0426_2562', 'M0457_2565', 'M0511_2558', 'M0518_2558', 'M0522_2558', 'M0547_2564', 'M0548_2564', 'M0555_2564', 'M0570_2560', 'M0593_2558', 'M0612_2558', 'M0721_2565', 'M0778_2554', 'M0787_2554', 'M0933_2554', 'M0935_2554']\n"
     ]
    }
   ],
   "source": [
    "list_rmf_path = 'C:/Users/momot/Documents/Mahidol/Senior project/Finance-Made-Easy-Personalized-Planner/airflow/config/rmf.txt'\n",
    "with open(list_rmf_path, 'r') as file:\n",
    "    list_rmf = [line.strip() for line in file]\n",
    "\n",
    "print(list_rmf)"
   ]
  },
  {
   "cell_type": "code",
   "execution_count": 24,
   "metadata": {},
   "outputs": [
    {
     "data": {
      "text/plain": [
       "datetime.datetime(2023, 8, 9, 0, 0)"
      ]
     },
     "execution_count": 24,
     "metadata": {},
     "output_type": "execute_result"
    }
   ],
   "source": [
    "from datetime import datetime\n",
    "\n",
    "date = ''\n",
    "with open('../config/data/rmf_nav_data/M0074_2544_RMF.csv', \"r\", encoding='utf-8') as file:\n",
    "    date = file.readlines()[-1]\n",
    "\n",
    "temp = date.split(\",\")\n",
    "actual_date = temp[0].replace('\"', \"\")\n",
    "date_object = datetime.strptime(actual_date, '%Y-%m-%d')\n",
    "date_object"
   ]
  },
  {
   "cell_type": "code",
   "execution_count": 14,
   "metadata": {},
   "outputs": [],
   "source": [
    "from datetime import date, timedelta\n",
    "from datetime import datetime\n",
    "\n",
    "# ไม่ได้ดึงวันนี้ แต่ดึงถึง วันนี้ - 1\n",
    "def daterange(start_date, end_date):\n",
    "    for n in range(int((end_date - start_date).days)):\n",
    "        yield start_date + timedelta(n)\n",
    "\n",
    "def convert_string_to_datetime(date_string:str)-> datetime:\n",
    "    date_object = datetime.strptime(date_string, '%Y-%m-%d')\n",
    "    return date_object\n"
   ]
  },
  {
   "cell_type": "code",
   "execution_count": null,
   "metadata": {},
   "outputs": [],
   "source": [
    "for rmf_id in list_rmf:\n",
    "    year =  rmf_id.rsplit(\"_\", 1) #Split _ to dictate years in Thai Calendar, TH year - 543 = A.D., B Year\n",
    "    start_year = (int)(year[1])-543 #At index 1, in list String year is Year in TH, then we subtract by 543\n",
    "    start_date = datetime(start_year,1,1)\n",
    "    filename = f'../config/data/rmf_nav_data/'+rmf_id+'_RMF.csv'\n",
    "    # writemode = 'w' เขียนทับ\n",
    "    with open(filename, 'w',newline = '') as f_out:\n",
    "        f_out = csv.writer(f_out,quoting=csv.QUOTE_ALL)\n",
    "        f_out.writerow(header)\n",
    "        for date in daterange(start_date,end_date):\n",
    "                res_FDI = requests.get(f'https://api.sec.or.th/FundDailyInfo/{rmf_id}/dailynav/{date.strftime(\"%Y-%m-%d\")}', headers = fdi_key)\n",
    "                time.sleep(0.5)\n",
    "                print(res_FDI)\n",
    "                print(date)\n",
    "                if(res_FDI.status_code == 200):\n",
    "                    res_json = json.loads(res_FDI.text)\n",
    "                    print(res_json)\n",
    "                    # break\n",
    "                    try:\n",
    "                        f_out.writerow([res_json['nav_date'],\n",
    "                                        res_json['net_asset'],\n",
    "                                        res_json['last_val'],\n",
    "                                        res_json['amc_info'][0]['sell_price'],\n",
    "                                        res_json['amc_info'][0]['buy_price'],\n",
    "                                        res_json['amc_info'][0]['sell_swap_price'],\n",
    "                                        res_json['amc_info'][0]['buy_swap_price']],\n",
    "                                        )\n",
    "                    except Exception as e:\n",
    "                         pass   "
   ]
  }
 ],
 "metadata": {
  "kernelspec": {
   "display_name": "Python 3",
   "language": "python",
   "name": "python3"
  },
  "language_info": {
   "codemirror_mode": {
    "name": "ipython",
    "version": 3
   },
   "file_extension": ".py",
   "mimetype": "text/x-python",
   "name": "python",
   "nbconvert_exporter": "python",
   "pygments_lexer": "ipython3",
   "version": "3.10.6"
  },
  "orig_nbformat": 4
 },
 "nbformat": 4,
 "nbformat_minor": 2
}
